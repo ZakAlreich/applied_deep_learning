{
 "cells": [
  {
   "attachments": {},
   "cell_type": "markdown",
   "metadata": {
    "id": "gsqKM5DLlLRm"
   },
   "source": [
    "# Task 2 – MLP, Learning rate, Overfitting, and Hyper-parameters."
   ]
  },
  {
   "attachments": {},
   "cell_type": "markdown",
   "metadata": {},
   "source": [
    "### <span style=\"color:red\">Deadline Tuesday, June 3, 2025 at 11:59 p.m<span>"
   ]
  },
  {
   "attachments": {},
   "cell_type": "markdown",
   "metadata": {
    "id": "eaoMWjbZdCLf"
   },
   "source": [
    "# IMPORTANT SUBMISSION INSTRUCTIONS\n",
    "\n",
    "- When you're done, download the notebook and rename it to task02_[name].ipynb\n",
    "- Only submit the ipynb file, no other file is required.\n",
    "- The deadline is strict.\n",
    "- Minimal requirement for passing: solving all code cells.\n",
    "\n",
    "Implementation\n",
    "- Do not change the cells which are marked as \"Do not change\", similarly write your solution to the marked cells. Do not create additional cells. "
   ]
  },
  {
   "attachments": {},
   "cell_type": "markdown",
   "metadata": {
    "id": "A8RW2QHHFQYe"
   },
   "source": [
    "# Introduction\n",
    "\n",
    "In this task you will implement an MLP model for virtual sensing using the flood dataset. \n",
    "The objectives are:\n",
    "- Implementing an MLP model via TensorFlow Functional API.\n",
    "- Getting more familiar with model fitting and overfitting.\n",
    "- Implementing early stopping.\n",
    "- Exploring hyperparameters and their influence.\n",
    "- Selecting model architecture."
   ]
  },
  {
   "cell_type": "markdown",
   "metadata": {
    "id": "Dhw-7EA-10Xm"
   },
   "source": [
    "## Tutorials\n",
    "\n",
    "Some python libraries are required to accomplish the tasks assigned in this homework. If you feel like you need to follow a tutorial before, feel free to do so:"
   ]
  },
  {
   "cell_type": "markdown",
   "metadata": {
    "id": "VMyEloGz__BZ"
   },
   "source": [
    "*   [Scikit-learn Tutorials](https://www.tensorflow.org/tutorials)\n",
    "*   [TensorFlow Tutorials](https://scikit-learn.org/stable/tutorial/index.html)\n",
    "*   [Matplotlib Tutorials](https://matplotlib.org/stable/tutorials/index.html)"
   ]
  },
  {
   "attachments": {},
   "cell_type": "markdown",
   "metadata": {
    "id": "ActTWMg4XZ5v"
   },
   "source": [
    "## Imports"
   ]
  },
  {
   "cell_type": "code",
   "execution_count": 1,
   "metadata": {
    "id": "LArjND15dGNh"
   },
   "outputs": [],
   "source": [
    "import numpy as np\n",
    "import random\n",
    "import pandas as pd\n",
    "import tensorflow as tf\n",
    "from tensorflow.keras import models, layers, optimizers, losses, callbacks\n",
    "\n",
    "import matplotlib.pyplot as plt\n",
    "import seaborn as sns\n",
    "\n",
    "SEED = 24\n",
    "random.seed(SEED)\n",
    "np.random.seed(SEED)\n",
    "tf.random.set_seed(SEED)"
   ]
  },
  {
   "attachments": {},
   "cell_type": "markdown",
   "metadata": {
    "id": "gpqN-O0F_atv"
   },
   "source": [
    "## System checks\n"
   ]
  },
  {
   "cell_type": "code",
   "execution_count": 2,
   "metadata": {
    "colab": {
     "base_uri": "https://localhost:8080/"
    },
    "id": "b1r5yPHY_hsl",
    "outputId": "67a10ff0-2783-4416-99e5-b94ef1035099"
   },
   "outputs": [
    {
     "name": "stdout",
     "output_type": "stream",
     "text": [
      "[PhysicalDevice(name='/physical_device:GPU:0', device_type='GPU')]\n",
      "[PhysicalDevice(name='/physical_device:CPU:0', device_type='CPU')]\n"
     ]
    }
   ],
   "source": [
    "gpus = tf.config.list_physical_devices('GPU')\n",
    "cpus = tf.config.list_physical_devices('CPU')\n",
    "print(gpus)\n",
    "print(cpus)"
   ]
  },
  {
   "cell_type": "markdown",
   "metadata": {},
   "source": [
    "Choose your device for computation. CPU or one of your CUDA devices"
   ]
  },
  {
   "cell_type": "code",
   "execution_count": 3,
   "metadata": {
    "id": "MMCbCpAFao6q"
   },
   "outputs": [],
   "source": [
    "tf.config.set_visible_devices(gpus, 'GPU')"
   ]
  },
  {
   "attachments": {},
   "cell_type": "markdown",
   "metadata": {},
   "source": [
    "# Subtask 2.1\n",
    "\n",
    "## Backpropagation – Chain Rule\n",
    "\n",
    "### Model\n",
    "Let us assume an MLP with one hidden layer containing one neuron with `sigmoid` function ($S(x) = 1 / (1 + e^{-x})$) as the activation function. The input and the output dimensions are equal to one. The activation function for the input and output layers is `linear`.\n",
    "The mapping $f: x \\to \\tilde{y}$ from the input $x$ to output $\\tilde{y}$ can be written as:\n",
    "\\begin{equation}\n",
    "\\tilde{y} = f(x) = w_2 S(w_1 x)\n",
    "\\end{equation}\n",
    "where $w_1$ and $w_2$ are the weights of the model. Note that we do not have bias for this example. Let us consider mean-squared error as the loss function. The loss $\\ell$ can be obtained as:\n",
    "\\begin{equation}\n",
    "\\ell = (y - \\tilde{y})^2 = (y - w_2 S(w_1 x))^2 \n",
    "\\end{equation}\n",
    "where $y$ denotes the reference label. Let's initialize the weights as $w_1 = 0.1$ and $w_2 = 0.1$.\n",
    "\n",
    "### Data\n",
    "\n",
    "Let's assume we have a data set containing three samples as: $x = [1.0, 2.0, 3.0]^{T}$ and $y = [1.0, 4.0, 9.0]^{T}$.\n",
    "\n",
    "#### TODO\n",
    " - Perform gradient descent by hand with a learning rate of 0.1. Train the model for 1 epoch with the batch size of 1.\n",
    " - Report the prediction $\\tilde{y}$, loss, gradients, and the updated weights at every iteration."
   ]
  },
  {
   "cell_type": "code",
   "execution_count": 4,
   "metadata": {},
   "outputs": [
    {
     "data": {
      "text/plain": [
       "'\\n\\nIteration 1 :\\n        1. Forward pass :\\n            z1: w1*x = (1 * 0,1)  =  0.1\\n            s(z1) = 0.52\\n            ** y^=  0.1(1 /1+e**-(1 * 0,1) ) = 0.052 **\\n            l = (y−y^) ** 2\\n            l(x1) = 0.81\\n        2. Backprobagation  :\\n            dldw2 = -2(y-y^)*S(w1x) = -2(1 - 0.52)(0.52) = 0.09949\\n            dldz1 = s(0.1)* (1- S(0.1)) = 0.2494\\n            dldw1 = -2(y-y^)* w2 *S(w1x) * (1- S(w1x)) * x = -2(0.9475) * (0.1) * (0.2494) * (1) = - 0.0473\\n\\n        3. update weights :\\n            w1 = w1 - (learning rate * dldw1) = 0.1 - (0.1 * - 0.0473) = 0.10473\\n            w2 = w2 - (learning rate * dldw2) = 0.1 - (0.1 * - 0.9949) = 0.19949\\n\\n\\nIteration 2 :\\n        1. Forward pass :\\n            z1: w1*x = (2 * 0,1047)  = 0.20946\\n            s(z1) = 0.5522\\n            y^=  0.19949(1 /1+e**-(2 * 0,1047) ) = 0.1102\\n            l(x2) =  15.1309\\n\\n        2. Backprobagation  :\\n            dldw2 = -2(y-y^)*S(w1x) = -2(1 - 0.5522)(0.5522) = −4.2984\\n            dldz1 = s(0.20946)* (1- S(0.20946)) = 0.2474\\n            dldw1 = -2(y-y^)* w2 *S(w1x) * (1- S(w1x)) * x = -2(3.8898) * (0.19949) * (0.2474) * (2) = −3.8569\\n\\n        3. update weights :\\n            w1 = w1 - (learning rate * dldw1) = 0.10473 - (0.1 * -3.8569) = 0.49042\\n            w2 = w2 - (learning rate * dldw2) = 0.19949 - (0.1 * -4.2984) = 0.62933\\n\\n\\n\\n\\nIteration 3 :\\n        1. Forward pass :\\n            z1: w1*x = (3 * 0.49042)  =  1.47126\\n            s(z1) = 0.8132\\n            y^=  0.62933(1 /1+e**-(3 * 0.49042) ) = 0.5119\\n            l(x3) =  72.0478\\n\\n        2. Backprobagation  :\\n            dldw2 = -2(y-y^)*S(w1x) = -2(9.0−0.5119)(0.8132) = −13.7997\\n            dldz1 = s(1.47126)* (1- S(1.47126)) = 0.1519\\n            dldw1 = -2(y-y^)* w2 *S(w1x) * (1- S(w1x)) * x = -2(8.4881) * (0.62933) * (0.1519) * (3) = −4.8693\\n\\n        3. update weights :\\n            w1 = w1 - (learning rate * dldw1) = 0.49042 - (0.1 * -4.8693) = 0.97735\\n            w2 = w2 - (learning rate * dldw2) = 0.62933 - (0.1 * -13.7997) = 2.00930\\n\\n\\n\\n\\n'"
      ]
     },
     "execution_count": 4,
     "metadata": {},
     "output_type": "execute_result"
    }
   ],
   "source": [
    "#<span style='color:red'>**Your answer:**</span>\n",
    "\n",
    "\"\"\"\n",
    "\n",
    "Iteration 1 :\n",
    "        1. Forward pass :\n",
    "            z1: w1*x = (1 * 0,1)  =  0.1\n",
    "            s(z1) = 0.52\n",
    "            y^=  0.1(1 /1+e**-(1 * 0,1) ) = 0.052 \n",
    "            l = (y−y^) ** 2\n",
    "            l(x1) = 0.81\n",
    "        2. Backprobagation  :\n",
    "            dldw2 = -2(y-y^)*S(w1x) = -2(1 - 0.52)(0.52) = 0.09949\n",
    "            dldz1 = s(0.1)* (1- S(0.1)) = 0.2494\n",
    "            dldw1 = -2(y-y^)* w2 *S(w1x) * (1- S(w1x)) * x = -2(0.9475) * (0.1) * (0.2494) * (1) = - 0.0473\n",
    "\n",
    "        3. update weights :\n",
    "            w1 = w1 - (learning rate * dldw1) = 0.1 - (0.1 * - 0.0473) = 0.10473\n",
    "            w2 = w2 - (learning rate * dldw2) = 0.1 - (0.1 * - 0.9949) = 0.19949\n",
    "\n",
    "\n",
    "Iteration 2 :\n",
    "        1. Forward pass :\n",
    "            z1: w1*x = (2 * 0,1047)  = 0.20946\n",
    "            s(z1) = 0.5522\n",
    "            y^=  0.19949(1 /1+e**-(2 * 0,1047) ) = 0.1102\n",
    "            l(x2) =  15.1309\n",
    "\n",
    "        2. Backprobagation  :\n",
    "            dldw2 = -2(y-y^)*S(w1x) = -2(1 - 0.5522)(0.5522) = −4.2984\n",
    "            dldz1 = s(0.20946)* (1- S(0.20946)) = 0.2474\n",
    "            dldw1 = -2(y-y^)* w2 *S(w1x) * (1- S(w1x)) * x = -2(3.8898) * (0.19949) * (0.2474) * (2) = -0.7679\n",
    "\n",
    "        3. update weights :\n",
    "            w1 = w1 - (learning rate * dldw1) = 0.10473 - (0.1 * -0.7679) = 0.1815\n",
    "            w2 = w2 - (learning rate * dldw2) = 0.19949 - (0.1 * -4.2984) = 0.62933\n",
    "\n",
    "\n",
    "\n",
    "\n",
    "Iteration 3 :\n",
    "        1. Forward pass :\n",
    "            z1: w1*x = (3 * 0.1815)  = 0.5444\n",
    "            s(z1) = 0.6328\n",
    "            y^=  0.62933(1 /1+e**-(3 * 0.1815) ) = 0.3981\n",
    "            l(x3) =  73.9928\n",
    "\n",
    "        2. Backprobagation  :\n",
    "            dldw2 = -2(y-y^)*S(w1x) = -2(9.0−0.3981)(0.6328) = -10.8873\n",
    "            dldz1 = s(0.5444)* (1- S(0.5444)) = 0.2324\n",
    "            dldw1 = -2(y-y^)* w2 *S(w1x) * (1- S(w1x)) * x = -2(8.4881) * (0.62933) * (0.2324) * (3) = -7.5437\n",
    "\n",
    "        3. update weights :\n",
    "            w1 = w1 - (learning rate * dldw1) = 0.1815 - (0.1 * -7.5437) = 0.9358\n",
    "            w2 = w2 - (learning rate * dldw2) = 0.62933 - (0.1 * -10.8873) = 1.7178 \n",
    "\n",
    "\n",
    "\n",
    "\n",
    "\"\"\""
   ]
  },
  {
   "attachments": {},
   "cell_type": "markdown",
   "metadata": {},
   "source": [
    "#### TODO\n",
    "- Define two functions that compute the gradients of the loss with respect to $w_1$ and $w_2$ using analytical differentiation and chain rule.\n",
    "- Use the functions you defined and train the model again using gradient descent and the same learning rate.\n",
    "- Report the prediction $\\tilde{y}$, loss, gradients, and the updated weights at every iteration."
   ]
  },
  {
   "cell_type": "code",
   "execution_count": 1,
   "metadata": {},
   "outputs": [
    {
     "name": "stdout",
     "output_type": "stream",
     "text": [
      "training with analytical gradients functions\n",
      "initial w2: 0.1, w1: 0.1\n",
      "learning rate: 0.1\n",
      "Iteration 1: x = 1.0, y = 1.0\n",
      " weights = w1: 0.1000, w2: 0.1000\n",
      "z1: 0.1000\n",
      "s(z1): 0.5250\n",
      "derivative of sigmoid: 0.2494\n",
      "predictiont y^: 0.0525, loss: 0.8978\n",
      "gradients: dldw1: -0.0473, dldw2: -0.9948\n",
      "updated w1: 0.1047, w2: 0.1995\n",
      "\n",
      "Iteration 2: x = 2.0, y = 4.0\n",
      " weights = w1: 0.1047, w2: 0.1995\n",
      "z1: 0.2095\n",
      "s(z1): 0.5522\n",
      "derivative of sigmoid: 0.2473\n",
      "predictiont y^: 0.1101, loss: 15.1309\n",
      "gradients: dldw1: -0.7675, dldw2: -4.2957\n",
      "updated w1: 0.1815, w2: 0.6291\n",
      "\n",
      "Iteration 3: x = 3.0, y = 9.0\n",
      " weights = w1: 0.1815, w2: 0.6291\n",
      "z1: 0.5444\n",
      "s(z1): 0.6328\n",
      "derivative of sigmoid: 0.2324\n",
      "predictiont y^: 0.3981, loss: 73.9928\n",
      "gradients: dldw1: -7.5437, dldw2: -10.8873\n",
      "updated w1: 0.9358, w2: 1.7178\n",
      "\n"
     ]
    }
   ],
   "source": [
    "####################\n",
    "import numpy as np \n",
    "\n",
    "# Sigmoid function\n",
    "def sigmoid(x):\n",
    "    return 1 / (1 + np.exp(-x))\n",
    "\n",
    "def gradient_w1(x, y, w1, w2):\n",
    "    \"\"\"\n",
    "    compute the gradient of l with respect to w1 \n",
    "    dldw1 =  -2(y - ỹ) * w2 * S(w1*x) * (1 - S(w1*x)) * x\n",
    "    \"\"\"\n",
    "    z1 = w1 * x\n",
    "    sigmoid_z1 = sigmoid(z1)\n",
    "    y_pred = w2 * sigmoid_z1\n",
    "\n",
    "    dervative_sigmoid = sigmoid_z1 * (1 - sigmoid_z1)\n",
    "    print(f\"derivative of sigmoid: {dervative_sigmoid:.4f}\")\n",
    "\n",
    "    dldw1 = -2 * (y - y_pred) * w2 * sigmoid_z1 * (1 - sigmoid_z1) * x\n",
    "    return dldw1\n",
    "\n",
    "def gradient_w2(x, y, w1, w2):\n",
    "    \"\"\" \n",
    "    compute the gradient of l with respect to w2\n",
    "    dldw2 = -2(y - ỹ) * S(w1*x)\n",
    "    \"\"\"\n",
    "    z1 = w1 * x \n",
    "    sigmoid_z1 = sigmoid(z1)\n",
    "    y_pred = w2 * sigmoid_z1\n",
    "\n",
    "    dldw2 = -2 * (y - y_pred) * sigmoid_z1\n",
    "    return dldw2\n",
    "\n",
    "# Data \n",
    "\n",
    "x = np.array([1.0, 2.0, 3.0])\n",
    "y = np.array([1.0, 4.0, 9.0])\n",
    "\n",
    "# Initial weights\n",
    "w1 = 0.1\n",
    "w2 = 0.1\n",
    "learning_rate = 0.1\n",
    "\n",
    "# some print statements\n",
    "\n",
    "print(f\"training with analytical gradients functions\")\n",
    "print (f\"initial w2: {w2}, w1: {w2}\")\n",
    "print(f\"learning rate: {learning_rate}\")\n",
    "\n",
    "\n",
    "for i, (xi, yi) in enumerate(zip(x,y)): \n",
    "    print(f\"Iteration {i+1}: x = {xi}, y = {yi}\")\n",
    "    print(f\" weights = w1: {w1:.4f}, w2: {w2:.4f}\")\n",
    "\n",
    "\n",
    "\n",
    "    # forward pass \n",
    "    z1 = w1 * xi\n",
    "    print(f\"z1: {z1:.4f}\")\n",
    "    sigmoid_z1 = sigmoid(z1)\n",
    "    print(f\"s(z1): {sigmoid_z1:.4f}\")\n",
    "    y_pred = w2 * sigmoid_z1\n",
    "    loss = (yi - y_pred) ** 2\n",
    "\n",
    "    # compute gradients using gradient_w2() and gradient_w1()\n",
    "    dldw1 = gradient_w1(xi, yi, w1, w2)\n",
    "    dldw2 = gradient_w2(xi, yi, w1, w2)\n",
    "\n",
    "    print(f\"predictiont y^: {y_pred:.4f}, loss: {loss:.4f}\")\n",
    "    print(f\"gradients: dldw1: {dldw1:.4f}, dldw2: {dldw2:.4f}\")\n",
    "\n",
    "    # update weights\n",
    "    w1 -= learning_rate * dldw1\n",
    "    w2 -= learning_rate * dldw2\n",
    "    print(f\"updated w1: {w1:.4f}, w2: {w2:.4f}\\n\")\n",
    "\n",
    "\n",
    "\n",
    "####################"
   ]
  },
  {
   "attachments": {},
   "cell_type": "markdown",
   "metadata": {},
   "source": [
    "#### TODO\n",
    "- Use automatic differentiation (AD) (`tf.GradientTape`) to compute the gradients.\n",
    "- Train the model again using the same learning rate, epoch, and batch size.\n",
    "- Report the prediction $\\tilde{y}$, loss, gradients, and the updated weights at every iteration."
   ]
  },
  {
   "cell_type": "code",
   "execution_count": 3,
   "metadata": {},
   "outputs": [
    {
     "name": "stdout",
     "output_type": "stream",
     "text": [
      "Training with TensorFlow automatic differentiation:\n",
      "Learning rate: 0.1\n",
      "Initial weights: w1 = 0.10000000149011612, w2 = 0.10000000149011612\n",
      "\n",
      "Iteration 1: x = 1.0, y = 1.0\n",
      "Prediction ỹ = 0.052498\n",
      "Loss = 0.897760\n",
      "Gradients: ∂ℓ/∂w1 = -0.047257, ∂ℓ/∂w2 = -0.994838\n",
      "Updated weights: w1 = 0.104726, w2 = 0.199484\n",
      "\n",
      "Iteration 2: x = 2.0, y = 4.0\n",
      "Prediction ỹ = 0.110149\n",
      "Loss = 15.130939\n",
      "Gradients: ∂ℓ/∂w1 = -0.767514, ∂ℓ/∂w2 = -4.295735\n",
      "Updated weights: w1 = 0.181477, w2 = 0.629057\n",
      "\n",
      "Iteration 3: x = 3.0, y = 9.0\n",
      "Prediction ỹ = 0.398094\n",
      "Loss = 73.992790\n",
      "Gradients: ∂ℓ/∂w1 = -7.543694, ∂ℓ/∂w2 = -10.887305\n",
      "Updated weights: w1 = 0.935846, w2 = 1.717788\n"
     ]
    }
   ],
   "source": [
    "####################\n",
    "import tensorflow as tf\n",
    "import numpy as np\n",
    "\n",
    "# Data\n",
    "x = np.array([1.0, 2.0, 3.0])\n",
    "y = np.array([1.0, 4.0, 9.0])\n",
    "\n",
    "# Initial weights as TensorFlow variables\n",
    "w1 = tf.Variable(0.1, dtype=tf.float32)\n",
    "w2 = tf.Variable(0.1, dtype=tf.float32)\n",
    "learning_rate = 0.1\n",
    "\n",
    "print(\"Training with TensorFlow automatic differentiation:\")\n",
    "print(f\"Learning rate: {learning_rate}\")\n",
    "print(f\"Initial weights: w1 = {w1.numpy()}, w2 = {w2.numpy()}\")\n",
    "\n",
    "# Train for 1 epoch with batch size 1\n",
    "for i, (xi, yi) in enumerate(zip(x, y)):\n",
    "    print(f\"\\nIteration {i+1}: x = {xi}, y = {yi}\")\n",
    "    \n",
    "    xi_tf = tf.constant(xi, dtype=tf.float32)\n",
    "    yi_tf = tf.constant(yi, dtype=tf.float32)\n",
    "    \n",
    "    with tf.GradientTape() as tape:\n",
    "        # Forward pass\n",
    "        z1 = w1 * xi_tf\n",
    "        sigmoid_z1 = tf.sigmoid(z1)\n",
    "        y_pred = w2 * sigmoid_z1\n",
    "        loss = (yi_tf - y_pred)**2\n",
    "    \n",
    "    # Compute gradients using automatic differentiation\n",
    "    gradients = tape.gradient(loss, [w1, w2])\n",
    "    dL_dw1, dL_dw2 = gradients\n",
    "    \n",
    "    print(f\"Prediction ỹ = {y_pred.numpy():.6f}\")\n",
    "    print(f\"Loss = {loss.numpy():.6f}\")\n",
    "    print(f\"Gradients: ∂ℓ/∂w1 = {dL_dw1.numpy():.6f}, ∂ℓ/∂w2 = {dL_dw2.numpy():.6f}\")\n",
    "    \n",
    "    # Update weights\n",
    "    w1_new = w1 - learning_rate * dL_dw1\n",
    "    w2_new = w2 - learning_rate * dL_dw2\n",
    "    \n",
    "    print(f\"Updated weights: w1 = {w1_new.numpy():.6f}, w2 = {w2_new.numpy():.6f}\")\n",
    "    \n",
    "    # Apply updates\n",
    "    w1.assign(w1_new)\n",
    "    w2.assign(w2_new)\n",
    "    ####################"
   ]
  },
  {
   "attachments": {},
   "cell_type": "markdown",
   "metadata": {},
   "source": [
    "# Subtask 2.2\n",
    "\n",
    "In this task, we consider the data from **Margarethenklippe** as the input and train an MLP that gives the information about **Sennhuette** as the output. For each of the sensors, we have the water level, **W**, and the mass flow rate, **Q**, every 15 minutes.\n",
    "## Pre-processing \n",
    "\n",
    "#### TODO\n",
    " - Load the flood dataset (`Flood_Data.csv`) using *pandas* library.\n",
    " - Drop the first four columns of the DataFrame and columns containing NaNs.\n",
    " - Split the data into inputs and outputs.\n",
    " - Shuffle the data and get the NumPy arrays.\n",
    " - Split the data to 75% for training, 15% for validation, and 15% for testing.\n",
    " - Standardize inputs and outputs. \n",
    " "
   ]
  },
  {
   "cell_type": "code",
   "execution_count": null,
   "metadata": {},
   "outputs": [],
   "source": [
    "# TODO load the flood dataset using pandas\n",
    "\n",
    "####################\n",
    "## YOUR CODE HERE ##\n",
    "####################"
   ]
  },
  {
   "cell_type": "code",
   "execution_count": null,
   "metadata": {},
   "outputs": [],
   "source": [
    "# TODO split the data into inputs X and outputs y\n",
    "####################\n",
    "## YOUR CODE HERE ##\n",
    "####################\n",
    "\n",
    "N_samples = X.shape[0] # number of samples"
   ]
  },
  {
   "cell_type": "code",
   "execution_count": null,
   "metadata": {},
   "outputs": [],
   "source": [
    "# TODO shuffle the data and get the NumPy arrays:\n",
    "####################\n",
    "## YOUR CODE HERE ##\n",
    "####################\n",
    "\n",
    "# TODO split the data to train, validation, and test:\n",
    "####################\n",
    "## YOUR CODE HERE ##\n",
    "####################"
   ]
  },
  {
   "attachments": {},
   "cell_type": "markdown",
   "metadata": {},
   "source": [
    "Let us define a class for standardizing the data. We will implement a function that applies the scaling (`apply`) and a function that maps the scaled data back into the original scale (`apply_reverse`). "
   ]
  },
  {
   "cell_type": "code",
   "execution_count": null,
   "metadata": {},
   "outputs": [],
   "source": [
    "# TODO create a class for standardizing the data.\n",
    "\n",
    "####################\n",
    "## YOUR CODE HERE ##\n",
    "####################"
   ]
  },
  {
   "cell_type": "code",
   "execution_count": null,
   "metadata": {},
   "outputs": [],
   "source": [
    "# TODO standardize the data using the class you defined in the cell above.\n",
    "\n",
    "####################\n",
    "## YOUR CODE HERE ##\n",
    "####################"
   ]
  },
  {
   "attachments": {},
   "cell_type": "markdown",
   "metadata": {},
   "source": [
    "# Subtask 2.3\n",
    "\n",
    "## Implementing an MLP using TensorFlow Functional API.\n",
    "\n",
    "#### TODO\n",
    "\n",
    "- Implement an MLP using TensorFlow Functional API. \n",
    "- Print the model architecture using `model.summary()`."
   ]
  },
  {
   "cell_type": "code",
   "execution_count": null,
   "metadata": {},
   "outputs": [],
   "source": [
    "# TODO implement the model \n",
    "\n",
    "def MLP(N_hidden_layers, N_neurons, activation):\n",
    "    input_layer = layers.Input(shape = (28, 28))\n",
    "    x = input_layer\n",
    "    for i in range(N_hidden_layers):\n",
    "        x = ...\n",
    "    output_layer = ...\n",
    "\n",
    "    model = models.Model(input_layer, output_layer)\n",
    "    return model\n",
    "\n",
    "####################\n",
    "## YOUR CODE HERE ##\n",
    "####################\n",
    "model = "
   ]
  },
  {
   "cell_type": "code",
   "execution_count": null,
   "metadata": {},
   "outputs": [],
   "source": [
    "# TODO print the model architecture\n",
    "####################\n",
    "## YOUR CODE HERE ##\n",
    "####################"
   ]
  },
  {
   "attachments": {},
   "cell_type": "markdown",
   "metadata": {},
   "source": [
    "# Subtask 2.4\n",
    "\n",
    "## Optimizer, loss function and training\n",
    "\n",
    "#### TODO\n",
    "\n",
    "- Define the optimizer and the loss function using `tf.keras.optimizers` and `tf.keras.losses`, respectively. \n",
    "    - Use stochastic gradient descent (SGD) with a learning rate of 1.0 as the optimizer.\n",
    "    - Use mean-squared error as the loss function.\n",
    "- Compile the model using the optimizer and the loss.\n",
    "- Train the model and get the history of training and validation losses.\n",
    "    - Train the model for 10 epochs.\n",
    "    - Use a batch size of 512.\n",
    "- Plot the learning curves."
   ]
  },
  {
   "cell_type": "code",
   "execution_count": null,
   "metadata": {},
   "outputs": [],
   "source": [
    "# TODO define the optimizer and the loss function\n",
    "####################\n",
    "## YOUR CODE HERE ##\n",
    "####################\n",
    "\n",
    "# TODO compile the model\n",
    "####################\n",
    "## YOUR CODE HERE ##\n",
    "####################"
   ]
  },
  {
   "cell_type": "code",
   "execution_count": null,
   "metadata": {},
   "outputs": [],
   "source": [
    "# TODO train the model \n",
    "####################\n",
    "## YOUR CODE HERE ##\n",
    "####################"
   ]
  },
  {
   "cell_type": "code",
   "execution_count": null,
   "metadata": {},
   "outputs": [],
   "source": [
    "\n",
    "def plot_learning_curves(hist):\n",
    "    epochs = np.arange(0, len(hist.history['loss'])) + 1\n",
    "    sns.set(style='ticks')\n",
    "    fig, ax = plt.subplots(1, 1, figsize = (5, 4))\n",
    "    ax.plot(epochs, hist.history['loss'], label = 'Training loss', marker = 'o', ls = '--')\n",
    "    ax.plot(epochs, hist.history['val_loss'], label = 'Validation loss', marker = 'o', ls = '--')\n",
    "\n",
    "    ax.set_xlabel('Epoch')\n",
    "    ax.set_ylabel('Loss')\n",
    "    ax.set_title('Learning curves')\n",
    "    ax.legend()\n",
    "    sns.despine(trim=True, offset=5)\n",
    "\n",
    "# TODO Use the function above to plot the learning curves\n",
    "####################\n",
    "## YOUR CODE HERE ##\n",
    "####################"
   ]
  },
  {
   "attachments": {},
   "cell_type": "markdown",
   "metadata": {},
   "source": [
    "**TODO Your answer here**\n",
    "\n",
    "Does the model learn properly? Why?\n",
    "\n",
    "**TODO Your answer here**"
   ]
  },
  {
   "attachments": {},
   "cell_type": "markdown",
   "metadata": {},
   "source": [
    "<span style='color:red'>**Your answer:**</span>\n",
    "\n",
    "...\n"
   ]
  },
  {
   "attachments": {},
   "cell_type": "markdown",
   "metadata": {},
   "source": [
    "# Subtask 2.5\n",
    "\n",
    "## Learning rate\n",
    "\n",
    "#### TODO\n",
    "- Decrease the learning rate logarithmically, i.e. by a factor of 10, until your model starts to train.\n",
    "    - Train the model for 10 epochs.\n",
    "    - Use a batch size of 512.\n",
    "- Plot the training curves of the loss and the accuracies as in Subtask 1.3. Use the function defined above.\n"
   ]
  },
  {
   "cell_type": "code",
   "execution_count": null,
   "metadata": {},
   "outputs": [],
   "source": [
    "# learning rate = 0.1\n",
    "####################\n",
    "## YOUR CODE HERE ##\n",
    "####################\n"
   ]
  },
  {
   "cell_type": "code",
   "execution_count": null,
   "metadata": {},
   "outputs": [],
   "source": [
    "# learning rate = 0.01\n",
    "####################\n",
    "## YOUR CODE HERE ##\n",
    "####################"
   ]
  },
  {
   "cell_type": "code",
   "execution_count": null,
   "metadata": {},
   "outputs": [],
   "source": [
    "# learning rate = 0.001\n",
    "####################\n",
    "## YOUR CODE HERE ##\n",
    "####################"
   ]
  },
  {
   "cell_type": "code",
   "execution_count": null,
   "metadata": {},
   "outputs": [],
   "source": [
    "# learning rate = 1e-4\n",
    "####################\n",
    "## YOUR CODE HERE ##\n",
    "####################"
   ]
  },
  {
   "attachments": {},
   "cell_type": "markdown",
   "metadata": {},
   "source": [
    "## Model selection\n",
    "\n",
    "Is it the lowest validation loss that one can achieve? Probably not. So here are your TODOs:\n",
    "\n",
    "#### TODO:\n",
    "- Train the model for 100 epochs and plot the learning curves. Use learning rate of 0.01.\n",
    "\n",
    "#### TODO from now on, for all subsequent tasks:\n",
    "- Print the overall best validation loss and the epoch at which it occurred of.\n"
   ]
  },
  {
   "cell_type": "code",
   "execution_count": null,
   "metadata": {},
   "outputs": [],
   "source": [
    "####################\n",
    "## YOUR CODE HERE ##\n",
    "####################"
   ]
  },
  {
   "attachments": {},
   "cell_type": "markdown",
   "metadata": {},
   "source": [
    "**TODO Your answer here**\n",
    "\n",
    "Answer the following questions in written form:\n",
    "\n",
    "1. Does the training loss decrease after each epoch? Why does it? // Why does it not?\n",
    "1. Does the validation loss decrease after each epoch? Why does it? // Why does it not? (For your answer to be sufficient, you should describe fluctuations and discuss the overall minimum of the curve.)\n",
    "1. At which epoch was your model best? I.e. if you had saved your model after each training epoch, which one would you use to make predictions to unseen samples (e.g. from the test set)? Why? (For your answer to be sufficient: Also discuss what this means in terms of overfitting)\n",
    "\n",
    "**TODO Your answer here**\n"
   ]
  },
  {
   "attachments": {},
   "cell_type": "markdown",
   "metadata": {},
   "source": [
    "<span style='color:red'>**Your answer:**</span>\n",
    "\n",
    "1. ..."
   ]
  },
  {
   "attachments": {},
   "cell_type": "markdown",
   "metadata": {},
   "source": [
    "# Subtask 2.6\n",
    "## Save and restore model checkpoints\n",
    "\n",
    "Training that model for 100 epochs took quite a bit of time, right? Wouldn't it be a pity if it would get deleted out of memory, e.g. because your Colab session terminates (this can even happen automatically)? We would have to train it again to make predictions! To prevent this, we would like to save a check-point of the already optimized model's weights to disk. Then, we could just load our model weights at any time and use our model again without retraining. As you will see in a bit, this will be very handy for early stopping, too!\n",
    "\n",
    "#### TODO\n",
    "- Save a checkpoint of the `model` trained above (i.e. the model's parameters) to disk.\n",
    "- Initialize a new model, `model2` with the same architecture as used for the `model` you stored. Do *not* train `model2`.\n",
    "- Evaluate `model2` on the validation dataset.\n",
    "- Now, overwrite the initialized, untrained weights of `model2` with the weights you saved into the checkpoint of `model`.\n",
    "- Evaluate `model2`'s validation loss again. It should be of the exact same value as `model`'s validation loss.\n"
   ]
  },
  {
   "attachments": {},
   "cell_type": "markdown",
   "metadata": {},
   "source": [
    "*Hints:*\n",
    " - Read https://www.tensorflow.org/tutorials/keras/save_and_load\n",
    " - Use `model.save_weights`"
   ]
  },
  {
   "cell_type": "code",
   "execution_count": null,
   "metadata": {},
   "outputs": [],
   "source": [
    "####################\n",
    "## YOUR CODE HERE ##\n",
    "####################\n"
   ]
  },
  {
   "attachments": {},
   "cell_type": "markdown",
   "metadata": {},
   "source": [
    "# Subtask 2.7\n",
    "## Early stopping\n",
    "So the model you ended up with after 100 epochs was not the best one. That has two implications for us: (1) We would not have had to train for that many epochs and could have saved some computing time. (2) We do not have the best model to apply our model to make actual predictions for unseen samples. If we would constantly assess our model's validation performance during training, we could stop optimization as soon as our model's performance does not increase anymore. This is called *early stopping*.\n",
    "\n",
    "### TODO\n",
    "- Implement Early Stopping using `tf.keras.callbacks.EarlyStopping`. Use patience = 5, which means that if the validation loss is not improved after 5 epochs, the training process should be stopped.\n",
    "- Save the model checkpoint after each epoch if the validation loss is improved. Use `tf.keras.callbacks.ModelCheckpoint`.\n",
    "- Train the model for 100 epochs with a learning rate of 0.01.\n",
    "- Load the model checkpoint.\n",
    "- Evaluate the model on the validation data."
   ]
  },
  {
   "cell_type": "code",
   "execution_count": null,
   "metadata": {},
   "outputs": [],
   "source": [
    "####################\n",
    "## YOUR CODE HERE ##\n",
    "####################\n"
   ]
  },
  {
   "cell_type": "code",
   "execution_count": null,
   "metadata": {},
   "outputs": [],
   "source": [
    "## TODO load the model checkpoint and evaluate on validation data\n",
    "####################\n",
    "## YOUR CODE HERE ##\n",
    "####################"
   ]
  },
  {
   "attachments": {},
   "cell_type": "markdown",
   "metadata": {},
   "source": [
    "#### TODO\n",
    "- Compare the training you just did with the one of the same model trained for 100 epochs. Did you reach best model performance? If so: why? If not: why not?\n",
    "- What is the purpose of `patience`, and why do we need that?\n",
    "- Do the same training as in the previous cell, starting training from scratch, but try different values for `patience` now. Did you end up with a model resulting in the best validation accuracy you have seen so far, but without training the full 100 epochs?"
   ]
  },
  {
   "cell_type": "code",
   "execution_count": null,
   "metadata": {},
   "outputs": [],
   "source": [
    "####################\n",
    "## YOUR CODE HERE ##\n",
    "####################"
   ]
  },
  {
   "attachments": {},
   "cell_type": "markdown",
   "metadata": {},
   "source": [
    "## Explore batch size *(optional)*\n",
    "\n",
    "*This task is optional, you do not need to solve it*\n",
    "\n",
    "Let us explore even more model and training parameters. In this section, we will see the impact of batch size on training. Let us use a learning rate of $10^{-3}$ from now on.\n",
    "\n",
    "\n",
    "#### TODO *(optional)*\n",
    "- Run training of the same model used above with \n",
    "    - batch size 1 for **one epoch**\n",
    "    - batch size 1024 for 100 epochs, using early stopping with patience 10\n",
    "- Compare your training results of all three batch sizes you have trained, i.e. batch size 1, 512 (from above) and 1024 \n",
    "- Was it smart to set batch size to 1?\n",
    "- How long (in terms of computing time) do your models need to train for the different batch sizes? (You could even measure this with python, using the `time` package)\n",
    "- What is the impact on model performance?"
   ]
  },
  {
   "cell_type": "code",
   "execution_count": null,
   "metadata": {},
   "outputs": [],
   "source": [
    "# Batch size 1\n",
    "\n",
    "###############################\n",
    "## YOUR CODE HERE - OPTIONAL ##\n",
    "###############################"
   ]
  },
  {
   "cell_type": "code",
   "execution_count": null,
   "metadata": {},
   "outputs": [],
   "source": [
    "# Batch size 1024\n",
    "\n",
    "###############################\n",
    "## YOUR CODE HERE - OPTIONAL ##\n",
    "###############################"
   ]
  },
  {
   "attachments": {},
   "cell_type": "markdown",
   "metadata": {},
   "source": [
    "# Subtask 2.8\n",
    "## What about the architecture?\n",
    "\n",
    "How does architecture affect predictive performance? \n",
    "\n",
    "#### TODO:\n",
    "In the following, try to improve model performance by varying \n",
    "- number of hidden layers\n",
    "- number of neurons per each hidden layer\n",
    "- activation function \n",
    "\n",
    "These parameters are called hyper-parameters, since they are excluded from model optimization. Instead, we have to set them by hand and explore them to find a model with good predictive accuracy. \n",
    "\n",
    "Vary only one hyper-parameter at a time. If you would vary multiple parameters at the same time, it would be harder for you to see the impact that each parameter has."
   ]
  },
  {
   "cell_type": "code",
   "execution_count": null,
   "metadata": {},
   "outputs": [],
   "source": [
    "# number of hidden layers\n",
    "\n",
    "####################\n",
    "## YOUR CODE HERE ##\n",
    "####################\n",
    "\n",
    "# 4 hidden layers"
   ]
  },
  {
   "cell_type": "code",
   "execution_count": null,
   "metadata": {},
   "outputs": [],
   "source": [
    "# number of neurons per each hidden layer\n",
    "\n",
    "####################\n",
    "## YOUR CODE HERE ##\n",
    "####################\n",
    "\n",
    "# 100 neurons"
   ]
  },
  {
   "cell_type": "code",
   "execution_count": null,
   "metadata": {},
   "outputs": [],
   "source": [
    "# activation function\n",
    "\n",
    "####################\n",
    "## YOUR CODE HERE ##\n",
    "####################\n",
    "\n",
    "# Use tanh instead of ReLU"
   ]
  },
  {
   "attachments": {},
   "cell_type": "markdown",
   "metadata": {},
   "source": [
    "**TODO Your answer here**\n",
    "\n",
    "1. How good do you get?\n",
    "2. Which hyper-parameter makes the largest difference?\n",
    "3. Does it always help to make your model bigger (i.e. wider / deeper)? Why not?\n",
    "\n",
    "**TODO Your answer here**\n"
   ]
  },
  {
   "attachments": {},
   "cell_type": "markdown",
   "metadata": {},
   "source": [
    "**Your answers:**\n",
    "1. ..."
   ]
  },
  {
   "attachments": {},
   "cell_type": "markdown",
   "metadata": {},
   "source": [
    "# Subtask 2.9\n",
    "## Challenge\n",
    "#### TODO\n",
    "- If you choose your best values for number hidden units, number of layers and activation function that you determined by varying them independently above: Does performance improve? Why?\n",
    "- Vary all of the parameters at the same time to maximize the predictive performance of your model. How good do you get?"
   ]
  },
  {
   "cell_type": "code",
   "execution_count": null,
   "metadata": {},
   "outputs": [],
   "source": [
    "# Your best model:\n",
    "\n",
    "####################\n",
    "## YOUR CODE HERE ##\n",
    "####################"
   ]
  },
  {
   "attachments": {},
   "cell_type": "markdown",
   "metadata": {},
   "source": [
    "# Subtask 2.10\n",
    "## Evaluate your best model on test set, once!\n",
    "When doing a study, at the very end right before writing up your paper, you evaluate the best model you chose on the test set. This is the performance value you will report to the public.\n",
    "\n",
    "#### TODO\n",
    "- Evaluate the model on the testing dataset.\n",
    "- Plot the reference mass flow rate vs. the predicted values for the first 50 samples of the testing dataset."
   ]
  },
  {
   "cell_type": "code",
   "execution_count": null,
   "metadata": {},
   "outputs": [],
   "source": [
    "# TODO evaluate the model\n",
    "####################\n",
    "## YOUR CODE HERE ##\n",
    "####################\n"
   ]
  },
  {
   "cell_type": "code",
   "execution_count": null,
   "metadata": {},
   "outputs": [],
   "source": [
    "# TODO plot results\n",
    "####################\n",
    "## YOUR CODE HERE ##\n",
    "####################\n",
    "\n",
    "y_pred = ...\n"
   ]
  },
  {
   "attachments": {},
   "cell_type": "markdown",
   "metadata": {},
   "source": [
    "**TODO Your answer here**\n",
    "\n",
    "1. Is the test loss of your model as good as the validation loss?\n",
    "2. If those values are different: How can you explain the difference?\n",
    "3. Why should you never use test set performance when trying out different hyper-parameters and architectures?\n",
    "\n",
    "**TODO Your answer here**\n",
    "\n"
   ]
  },
  {
   "attachments": {},
   "cell_type": "markdown",
   "metadata": {},
   "source": [
    "<span style='color:red'>**Your answer:**</span>\n",
    "\n",
    "1. ..."
   ]
  }
 ],
 "metadata": {
  "accelerator": "GPU",
  "colab": {
   "collapsed_sections": [],
   "name": "Exercises1_2021.ipynb",
   "provenance": []
  },
  "kernelspec": {
   "display_name": "Python 3",
   "language": "python",
   "name": "python3"
  },
  "language_info": {
   "codemirror_mode": {
    "name": "ipython",
    "version": 3
   },
   "file_extension": ".py",
   "mimetype": "text/x-python",
   "name": "python",
   "nbconvert_exporter": "python",
   "pygments_lexer": "ipython3",
   "version": "3.12.5"
  },
  "nteract": {
   "version": "0.15.0"
  }
 },
 "nbformat": 4,
 "nbformat_minor": 4
}
