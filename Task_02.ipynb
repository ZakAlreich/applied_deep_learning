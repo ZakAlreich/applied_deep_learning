{
 "cells": [
  {
   "attachments": {},
   "cell_type": "markdown",
   "metadata": {
    "id": "gsqKM5DLlLRm"
   },
   "source": [
    "# Task 2 – MLP, Learning rate, Overfitting, and Hyper-parameters."
   ]
  },
  {
   "attachments": {},
   "cell_type": "markdown",
   "metadata": {},
   "source": [
    "### <span style=\"color:red\">Deadline Tuesday, June 3, 2025 at 11:59 p.m<span>"
   ]
  },
  {
   "attachments": {},
   "cell_type": "markdown",
   "metadata": {
    "id": "eaoMWjbZdCLf"
   },
   "source": [
    "# IMPORTANT SUBMISSION INSTRUCTIONS\n",
    "\n",
    "- When you're done, download the notebook and rename it to task02_[name].ipynb\n",
    "- Only submit the ipynb file, no other file is required.\n",
    "- The deadline is strict.\n",
    "- Minimal requirement for passing: solving all code cells.\n",
    "\n",
    "Implementation\n",
    "- Do not change the cells which are marked as \"Do not change\", similarly write your solution to the marked cells. Do not create additional cells. "
   ]
  },
  {
   "attachments": {},
   "cell_type": "markdown",
   "metadata": {
    "id": "A8RW2QHHFQYe"
   },
   "source": [
    "# Introduction\n",
    "\n",
    "In this task you will implement an MLP model for virtual sensing using the flood dataset. \n",
    "The objectives are:\n",
    "- Implementing an MLP model via TensorFlow Functional API.\n",
    "- Getting more familiar with model fitting and overfitting.\n",
    "- Implementing early stopping.\n",
    "- Exploring hyperparameters and their influence.\n",
    "- Selecting model architecture."
   ]
  },
  {
   "cell_type": "markdown",
   "metadata": {
    "id": "Dhw-7EA-10Xm"
   },
   "source": [
    "## Tutorials\n",
    "\n",
    "Some python libraries are required to accomplish the tasks assigned in this homework. If you feel like you need to follow a tutorial before, feel free to do so:"
   ]
  },
  {
   "cell_type": "markdown",
   "metadata": {
    "id": "VMyEloGz__BZ"
   },
   "source": [
    "*   [Scikit-learn Tutorials](https://www.tensorflow.org/tutorials)\n",
    "*   [TensorFlow Tutorials](https://scikit-learn.org/stable/tutorial/index.html)\n",
    "*   [Matplotlib Tutorials](https://matplotlib.org/stable/tutorials/index.html)"
   ]
  },
  {
   "attachments": {},
   "cell_type": "markdown",
   "metadata": {
    "id": "ActTWMg4XZ5v"
   },
   "source": [
    "## Imports"
   ]
  },
  {
   "cell_type": "code",
   "execution_count": 1,
   "metadata": {
    "id": "LArjND15dGNh"
   },
   "outputs": [],
   "source": [
    "import numpy as np\n",
    "import random\n",
    "import pandas as pd\n",
    "import tensorflow as tf\n",
    "from tensorflow.keras import models, layers, optimizers, losses, callbacks\n",
    "\n",
    "import matplotlib.pyplot as plt\n",
    "import seaborn as sns\n",
    "\n",
    "SEED = 24\n",
    "random.seed(SEED)\n",
    "np.random.seed(SEED)\n",
    "tf.random.set_seed(SEED)"
   ]
  },
  {
   "attachments": {},
   "cell_type": "markdown",
   "metadata": {
    "id": "gpqN-O0F_atv"
   },
   "source": [
    "## System checks\n"
   ]
  },
  {
   "cell_type": "code",
   "execution_count": 2,
   "metadata": {
    "colab": {
     "base_uri": "https://localhost:8080/"
    },
    "id": "b1r5yPHY_hsl",
    "outputId": "67a10ff0-2783-4416-99e5-b94ef1035099"
   },
   "outputs": [
    {
     "name": "stdout",
     "output_type": "stream",
     "text": [
      "[PhysicalDevice(name='/physical_device:GPU:0', device_type='GPU')]\n",
      "[PhysicalDevice(name='/physical_device:CPU:0', device_type='CPU')]\n"
     ]
    }
   ],
   "source": [
    "gpus = tf.config.list_physical_devices('GPU')\n",
    "cpus = tf.config.list_physical_devices('CPU')\n",
    "print(gpus)\n",
    "print(cpus)"
   ]
  },
  {
   "cell_type": "markdown",
   "metadata": {},
   "source": [
    "Choose your device for computation. CPU or one of your CUDA devices"
   ]
  },
  {
   "cell_type": "code",
   "execution_count": 3,
   "metadata": {
    "id": "MMCbCpAFao6q"
   },
   "outputs": [],
   "source": [
    "tf.config.set_visible_devices(gpus, 'GPU')"
   ]
  },
  {
   "attachments": {},
   "cell_type": "markdown",
   "metadata": {},
   "source": [
    "# Subtask 2.1\n",
    "\n",
    "## Backpropagation – Chain Rule\n",
    "\n",
    "### Model\n",
    "Let us assume an MLP with one hidden layer containing one neuron with `sigmoid` function ($S(x) = 1 / (1 + e^{-x})$) as the activation function. The input and the output dimensions are equal to one. The activation function for the input and output layers is `linear`.\n",
    "The mapping $f: x \\to \\tilde{y}$ from the input $x$ to output $\\tilde{y}$ can be written as:\n",
    "\\begin{equation}\n",
    "\\tilde{y} = f(x) = w_2 S(w_1 x)\n",
    "\\end{equation}\n",
    "where $w_1$ and $w_2$ are the weights of the model. Note that we do not have bias for this example. Let us consider mean-squared error as the loss function. The loss $\\ell$ can be obtained as:\n",
    "\\begin{equation}\n",
    "\\ell = (y - \\tilde{y})^2 = (y - w_2 S(w_1 x))^2 \n",
    "\\end{equation}\n",
    "where $y$ denotes the reference label. Let's initialize the weights as $w_1 = 0.1$ and $w_2 = 0.1$.\n",
    "\n",
    "### Data\n",
    "\n",
    "Let's assume we have a data set containing three samples as: $x = [1.0, 2.0, 3.0]^{T}$ and $y = [1.0, 4.0, 9.0]^{T}$.\n",
    "\n",
    "#### TODO\n",
    " - Perform gradient descent by hand with a learning rate of 0.1. Train the model for 1 epoch with the batch size of 1.\n",
    " - Report the prediction $\\tilde{y}$, loss, gradients, and the updated weights at every iteration."
   ]
  },
  {
   "cell_type": "code",
   "execution_count": 4,
   "metadata": {},
   "outputs": [
    {
     "data": {
      "text/plain": [
       "'\\n\\nIteration 1 :\\n        1. Forward pass :\\n            z1: w1*x = (1 * 0,1)  =  0.1\\n            s(z1) = 0.52\\n            y^=  0.1(1 /1+e**-(1 * 0,1) ) = 0.052 \\n            l = (y−y^) ** 2\\n            l(x1) = 0.81\\n        2. Backprobagation  :\\n            dldw2 = -2(y-y^)*S(w1x) = -2(1 - 0.52)(0.52) = 0.09949\\n            dldz1 = s(0.1)* (1- S(0.1)) = 0.2494\\n            dldw1 = -2(y-y^)* w2 *S(w1x) * (1- S(w1x)) * x = -2(0.9475) * (0.1) * (0.2494) * (1) = - 0.0473\\n\\n        3. update weights :\\n            w1 = w1 - (learning rate * dldw1) = 0.1 - (0.1 * - 0.0473) = 0.10473\\n            w2 = w2 - (learning rate * dldw2) = 0.1 - (0.1 * - 0.9949) = 0.19949\\n\\n\\nIteration 2 :\\n        1. Forward pass :\\n            z1: w1*x = (2 * 0,1047)  = 0.20946\\n            s(z1) = 0.5522\\n            y^=  0.19949(1 /1+e**-(2 * 0,1047) ) = 0.1102\\n            l(x2) =  15.1309\\n\\n        2. Backprobagation  :\\n            dldw2 = -2(y-y^)*S(w1x) = -2(1 - 0.5522)(0.5522) = −4.2984\\n            dldz1 = s(0.20946)* (1- S(0.20946)) = 0.2474\\n            dldw1 = -2(y-y^)* w2 *S(w1x) * (1- S(w1x)) * x = -2(3.8898) * (0.19949) * (0.2474) * (2) = -0.7679\\n\\n        3. update weights :\\n            w1 = w1 - (learning rate * dldw1) = 0.10473 - (0.1 * -0.7679) = 0.1815\\n            w2 = w2 - (learning rate * dldw2) = 0.19949 - (0.1 * -4.2984) = 0.62933\\n\\n\\n\\n\\nIteration 3 :\\n        1. Forward pass :\\n            z1: w1*x = (3 * 0.1815)  = 0.5444\\n            s(z1) = 0.6328\\n            y^=  0.62933(1 /1+e**-(3 * 0.1815) ) = 0.3981\\n            l(x3) =  73.9928\\n\\n        2. Backprobagation  :\\n            dldw2 = -2(y-y^)*S(w1x) = -2(9.0−0.3981)(0.6328) = -10.8873\\n            dldz1 = s(0.5444)* (1- S(0.5444)) = 0.2324\\n            dldw1 = -2(y-y^)* w2 *S(w1x) * (1- S(w1x)) * x = -2(8.4881) * (0.62933) * (0.2324) * (3) = -7.5437\\n\\n        3. update weights :\\n            w1 = w1 - (learning rate * dldw1) = 0.1815 - (0.1 * -7.5437) = 0.9358\\n            w2 = w2 - (learning rate * dldw2) = 0.62933 - (0.1 * -10.8873) = 1.7178 \\n\\n\\n\\n\\n'"
      ]
     },
     "execution_count": 4,
     "metadata": {},
     "output_type": "execute_result"
    }
   ],
   "source": [
    "#<span style='color:red'>**Your answer:**</span>\n",
    "\n",
    "\"\"\"\n",
    "\n",
    "Iteration 1 :\n",
    "        1. Forward pass :\n",
    "            z1: w1*x = (1 * 0,1)  =  0.1\n",
    "            s(z1) = 0.52\n",
    "            y^=  0.1(1 /1+e**-(1 * 0,1) ) = 0.052 \n",
    "            l = (y−y^) ** 2\n",
    "            l(x1) = 0.81\n",
    "        2. Backprobagation  :\n",
    "            dldw2 = -2(y-y^)*S(w1x) = -2(1 - 0.52)(0.52) = 0.09949\n",
    "            dldz1 = s(0.1)* (1- S(0.1)) = 0.2494\n",
    "            dldw1 = -2(y-y^)* w2 *S(w1x) * (1- S(w1x)) * x = -2(0.9475) * (0.1) * (0.2494) * (1) = - 0.0473\n",
    "\n",
    "        3. update weights :\n",
    "            w1 = w1 - (learning rate * dldw1) = 0.1 - (0.1 * - 0.0473) = 0.10473\n",
    "            w2 = w2 - (learning rate * dldw2) = 0.1 - (0.1 * - 0.9949) = 0.19949\n",
    "\n",
    "\n",
    "Iteration 2 :\n",
    "        1. Forward pass :\n",
    "            z1: w1*x = (2 * 0,1047)  = 0.20946\n",
    "            s(z1) = 0.5522\n",
    "            y^=  0.19949(1 /1+e**-(2 * 0,1047) ) = 0.1102\n",
    "            l(x2) =  15.1309\n",
    "\n",
    "        2. Backprobagation  :\n",
    "            dldw2 = -2(y-y^)*S(w1x) = -2(1 - 0.5522)(0.5522) = −4.2984\n",
    "            dldz1 = s(0.20946)* (1- S(0.20946)) = 0.2474\n",
    "            dldw1 = -2(y-y^)* w2 *S(w1x) * (1- S(w1x)) * x = -2(3.8898) * (0.19949) * (0.2474) * (2) = -0.7679\n",
    "\n",
    "        3. update weights :\n",
    "            w1 = w1 - (learning rate * dldw1) = 0.10473 - (0.1 * -0.7679) = 0.1815\n",
    "            w2 = w2 - (learning rate * dldw2) = 0.19949 - (0.1 * -4.2984) = 0.62933\n",
    "\n",
    "\n",
    "\n",
    "\n",
    "Iteration 3 :\n",
    "        1. Forward pass :\n",
    "            z1: w1*x = (3 * 0.1815)  = 0.5444\n",
    "            s(z1) = 0.6328\n",
    "            y^=  0.62933(1 /1+e**-(3 * 0.1815) ) = 0.3981\n",
    "            l(x3) =  73.9928\n",
    "\n",
    "        2. Backprobagation  :\n",
    "            dldw2 = -2(y-y^)*S(w1x) = -2(9.0−0.3981)(0.6328) = -10.8873\n",
    "            dldz1 = s(0.5444)* (1- S(0.5444)) = 0.2324\n",
    "            dldw1 = -2(y-y^)* w2 *S(w1x) * (1- S(w1x)) * x = -2(8.4881) * (0.62933) * (0.2324) * (3) = -7.5437\n",
    "\n",
    "        3. update weights :\n",
    "            w1 = w1 - (learning rate * dldw1) = 0.1815 - (0.1 * -7.5437) = 0.9358\n",
    "            w2 = w2 - (learning rate * dldw2) = 0.62933 - (0.1 * -10.8873) = 1.7178 \n",
    "\n",
    "\n",
    "\n",
    "\n",
    "\"\"\""
   ]
  },
  {
   "attachments": {},
   "cell_type": "markdown",
   "metadata": {},
   "source": [
    "#### TODO\n",
    "- Define two functions that compute the gradients of the loss with respect to $w_1$ and $w_2$ using analytical differentiation and chain rule.\n",
    "- Use the functions you defined and train the model again using gradient descent and the same learning rate.\n",
    "- Report the prediction $\\tilde{y}$, loss, gradients, and the updated weights at every iteration."
   ]
  },
  {
   "cell_type": "code",
   "execution_count": 5,
   "metadata": {},
   "outputs": [
    {
     "name": "stdout",
     "output_type": "stream",
     "text": [
      "training with analytical gradients functions\n",
      "initial w2: 0.1, w1: 0.1\n",
      "learning rate: 0.1\n",
      "Iteration 1: x = 1.0, y = 1.0\n",
      " weights = w1: 0.1000, w2: 0.1000\n",
      "z1: 0.1000\n",
      "s(z1): 0.5250\n",
      "derivative of sigmoid: 0.2494\n",
      "predictiont y^: 0.0525, loss: 0.8978\n",
      "gradients: dldw1: -0.0473, dldw2: -0.9948\n",
      "updated w1: 0.1047, w2: 0.1995\n",
      "\n",
      "Iteration 2: x = 2.0, y = 4.0\n",
      " weights = w1: 0.1047, w2: 0.1995\n",
      "z1: 0.2095\n",
      "s(z1): 0.5522\n",
      "derivative of sigmoid: 0.2473\n",
      "predictiont y^: 0.1101, loss: 15.1309\n",
      "gradients: dldw1: -0.7675, dldw2: -4.2957\n",
      "updated w1: 0.1815, w2: 0.6291\n",
      "\n",
      "Iteration 3: x = 3.0, y = 9.0\n",
      " weights = w1: 0.1815, w2: 0.6291\n",
      "z1: 0.5444\n",
      "s(z1): 0.6328\n",
      "derivative of sigmoid: 0.2324\n",
      "predictiont y^: 0.3981, loss: 73.9928\n",
      "gradients: dldw1: -7.5437, dldw2: -10.8873\n",
      "updated w1: 0.9358, w2: 1.7178\n",
      "\n"
     ]
    }
   ],
   "source": [
    "####################\n",
    "import numpy as np \n",
    "\n",
    "# Sigmoid function\n",
    "def sigmoid(x):\n",
    "    return 1 / (1 + np.exp(-x))\n",
    "\n",
    "def gradient_w1(x, y, w1, w2):\n",
    "    \"\"\"\n",
    "    compute the gradient of l with respect to w1 \n",
    "    dldw1 =  -2(y - ỹ) * w2 * S(w1*x) * (1 - S(w1*x)) * x\n",
    "    \"\"\"\n",
    "    z1 = w1 * x\n",
    "    sigmoid_z1 = sigmoid(z1)\n",
    "    y_pred = w2 * sigmoid_z1\n",
    "\n",
    "    dervative_sigmoid = sigmoid_z1 * (1 - sigmoid_z1)\n",
    "    print(f\"derivative of sigmoid: {dervative_sigmoid:.4f}\")\n",
    "\n",
    "    dldw1 = -2 * (y - y_pred) * w2 * sigmoid_z1 * (1 - sigmoid_z1) * x\n",
    "    return dldw1\n",
    "\n",
    "def gradient_w2(x, y, w1, w2):\n",
    "    \"\"\" \n",
    "    compute the gradient of l with respect to w2\n",
    "    dldw2 = -2(y - ỹ) * S(w1*x)\n",
    "    \"\"\"\n",
    "    z1 = w1 * x \n",
    "    sigmoid_z1 = sigmoid(z1)\n",
    "    y_pred = w2 * sigmoid_z1\n",
    "\n",
    "    dldw2 = -2 * (y - y_pred) * sigmoid_z1\n",
    "    return dldw2\n",
    "\n",
    "# Data \n",
    "\n",
    "x = np.array([1.0, 2.0, 3.0])\n",
    "y = np.array([1.0, 4.0, 9.0])\n",
    "\n",
    "# Initial weights\n",
    "w1 = 0.1\n",
    "w2 = 0.1\n",
    "learning_rate = 0.1\n",
    "\n",
    "# some print statements\n",
    "\n",
    "print(f\"training with analytical gradients functions\")\n",
    "print (f\"initial w2: {w2}, w1: {w2}\")\n",
    "print(f\"learning rate: {learning_rate}\")\n",
    "\n",
    "\n",
    "for i, (xi, yi) in enumerate(zip(x,y)): \n",
    "    print(f\"Iteration {i+1}: x = {xi}, y = {yi}\")\n",
    "    print(f\" weights = w1: {w1:.4f}, w2: {w2:.4f}\")\n",
    "\n",
    "\n",
    "\n",
    "    # forward pass \n",
    "    z1 = w1 * xi\n",
    "    print(f\"z1: {z1:.4f}\")\n",
    "    sigmoid_z1 = sigmoid(z1)\n",
    "    print(f\"s(z1): {sigmoid_z1:.4f}\")\n",
    "    y_pred = w2 * sigmoid_z1\n",
    "    loss = (yi - y_pred) ** 2\n",
    "\n",
    "    # compute gradients using gradient_w2() and gradient_w1()\n",
    "    dldw1 = gradient_w1(xi, yi, w1, w2)\n",
    "    dldw2 = gradient_w2(xi, yi, w1, w2)\n",
    "\n",
    "    print(f\"predictiont y^: {y_pred:.4f}, loss: {loss:.4f}\")\n",
    "    print(f\"gradients: dldw1: {dldw1:.4f}, dldw2: {dldw2:.4f}\")\n",
    "\n",
    "    # update weights\n",
    "    w1 -= learning_rate * dldw1\n",
    "    w2 -= learning_rate * dldw2\n",
    "    print(f\"updated w1: {w1:.4f}, w2: {w2:.4f}\\n\")\n",
    "\n",
    "\n",
    "\n",
    "####################"
   ]
  },
  {
   "attachments": {},
   "cell_type": "markdown",
   "metadata": {},
   "source": [
    "#### TODO\n",
    "- Use automatic differentiation (AD) (`tf.GradientTape`) to compute the gradients.\n",
    "- Train the model again using the same learning rate, epoch, and batch size.\n",
    "- Report the prediction $\\tilde{y}$, loss, gradients, and the updated weights at every iteration."
   ]
  },
  {
   "cell_type": "code",
   "execution_count": 6,
   "metadata": {},
   "outputs": [
    {
     "name": "stdout",
     "output_type": "stream",
     "text": [
      "Training with TensorFlow automatic differentiation:\n",
      "Learning rate: 0.1\n",
      "Initial weights: w1 = 0.10000000149011612, w2 = 0.10000000149011612\n",
      "\n",
      "Iteration 1: x = 1.0, y = 1.0\n",
      "Prediction ỹ = 0.052498\n",
      "Loss = 0.897760\n",
      "Gradients: ∂ℓ/∂w1 = -0.047257, ∂ℓ/∂w2 = -0.994838\n",
      "Updated weights: w1 = 0.104726, w2 = 0.199484\n",
      "\n",
      "Iteration 2: x = 2.0, y = 4.0\n",
      "Prediction ỹ = 0.110149\n",
      "Loss = 15.130939\n",
      "Gradients: ∂ℓ/∂w1 = -0.767514, ∂ℓ/∂w2 = -4.295735\n",
      "Updated weights: w1 = 0.181477, w2 = 0.629057\n",
      "\n",
      "Iteration 3: x = 3.0, y = 9.0\n",
      "Prediction ỹ = 0.398094\n",
      "Loss = 73.992790\n",
      "Gradients: ∂ℓ/∂w1 = -7.543694, ∂ℓ/∂w2 = -10.887305\n",
      "Updated weights: w1 = 0.935846, w2 = 1.717788\n"
     ]
    },
    {
     "name": "stderr",
     "output_type": "stream",
     "text": [
      "2025-06-03 14:39:41.361221: I metal_plugin/src/device/metal_device.cc:1154] Metal device set to: Apple M3\n",
      "2025-06-03 14:39:41.361255: I metal_plugin/src/device/metal_device.cc:296] systemMemory: 16.00 GB\n",
      "2025-06-03 14:39:41.361260: I metal_plugin/src/device/metal_device.cc:313] maxCacheSize: 5.33 GB\n",
      "2025-06-03 14:39:41.361284: I tensorflow/core/common_runtime/pluggable_device/pluggable_device_factory.cc:305] Could not identify NUMA node of platform GPU ID 0, defaulting to 0. Your kernel may not have been built with NUMA support.\n",
      "2025-06-03 14:39:41.361299: I tensorflow/core/common_runtime/pluggable_device/pluggable_device_factory.cc:271] Created TensorFlow device (/job:localhost/replica:0/task:0/device:GPU:0 with 0 MB memory) -> physical PluggableDevice (device: 0, name: METAL, pci bus id: <undefined>)\n"
     ]
    }
   ],
   "source": [
    "####################\n",
    "import tensorflow as tf\n",
    "import numpy as np\n",
    "\n",
    "# Data\n",
    "x = np.array([1.0, 2.0, 3.0])\n",
    "y = np.array([1.0, 4.0, 9.0])\n",
    "\n",
    "# Initial weights as TensorFlow variables\n",
    "w1 = tf.Variable(0.1, dtype=tf.float32)\n",
    "w2 = tf.Variable(0.1, dtype=tf.float32)\n",
    "learning_rate = 0.1\n",
    "\n",
    "print(\"Training with TensorFlow automatic differentiation:\")\n",
    "print(f\"Learning rate: {learning_rate}\")\n",
    "print(f\"Initial weights: w1 = {w1.numpy()}, w2 = {w2.numpy()}\")\n",
    "\n",
    "# Train for 1 epoch with batch size 1\n",
    "for i, (xi, yi) in enumerate(zip(x, y)):\n",
    "    print(f\"\\nIteration {i+1}: x = {xi}, y = {yi}\")\n",
    "    \n",
    "    xi_tf = tf.constant(xi, dtype=tf.float32)\n",
    "    yi_tf = tf.constant(yi, dtype=tf.float32)\n",
    "    \n",
    "    with tf.GradientTape() as tape:\n",
    "        # Forward pass\n",
    "        z1 = w1 * xi_tf\n",
    "        sigmoid_z1 = tf.sigmoid(z1)\n",
    "        y_pred = w2 * sigmoid_z1\n",
    "        loss = (yi_tf - y_pred)**2\n",
    "    \n",
    "    # Compute gradients using automatic differentiation\n",
    "    gradients = tape.gradient(loss, [w1, w2])\n",
    "    dL_dw1, dL_dw2 = gradients\n",
    "    \n",
    "    print(f\"Prediction ỹ = {y_pred.numpy():.6f}\")\n",
    "    print(f\"Loss = {loss.numpy():.6f}\")\n",
    "    print(f\"Gradients: ∂ℓ/∂w1 = {dL_dw1.numpy():.6f}, ∂ℓ/∂w2 = {dL_dw2.numpy():.6f}\")\n",
    "    \n",
    "    # Update weights\n",
    "    w1_new = w1 - learning_rate * dL_dw1\n",
    "    w2_new = w2 - learning_rate * dL_dw2\n",
    "    \n",
    "    print(f\"Updated weights: w1 = {w1_new.numpy():.6f}, w2 = {w2_new.numpy():.6f}\")\n",
    "    \n",
    "    # Apply updates\n",
    "    w1.assign(w1_new)\n",
    "    w2.assign(w2_new)\n",
    "    ####################"
   ]
  },
  {
   "attachments": {},
   "cell_type": "markdown",
   "metadata": {},
   "source": [
    "# Subtask 2.2\n",
    "\n",
    "In this task, we consider the data from **Margarethenklippe** as the input and train an MLP that gives the information about **Sennhuette** as the output. For each of the sensors, we have the water level, **W**, and the mass flow rate, **Q**, every 15 minutes.\n",
    "## Pre-processing \n",
    "\n",
    "#### TODO\n",
    " - Load the flood dataset (`Flood_Data.csv`) using *pandas* library.\n",
    " - Drop the first four columns of the DataFrame and columns containing NaNs.\n",
    " - Split the data into inputs and outputs.\n",
    " - Shuffle the data and get the NumPy arrays.\n",
    " - Split the data to 75% for training, 15% for validation, and 15% for testing.\n",
    " - Standardize inputs and outputs. \n",
    " "
   ]
  },
  {
   "cell_type": "code",
   "execution_count": 7,
   "metadata": {},
   "outputs": [
    {
     "name": "stdout",
     "output_type": "stream",
     "text": [
      "        Datum      Zeit   GranetalsperreMin15Niederschlag  \\\n",
      "0  01.11.2003  00:15:00                               0.0   \n",
      "1  01.11.2003  00:30:00                               0.0   \n",
      "2  01.11.2003  00:45:00                               0.0   \n",
      "3  01.11.2003  01:00:00                               0.0   \n",
      "4  01.11.2003  01:15:00                               0.0   \n",
      "\n",
      "    HahnenkleeMin15Niederschlag   MargarethenklippeMin15W  \\\n",
      "0                           0.0                       7.3   \n",
      "1                           0.0                       7.3   \n",
      "2                           0.0                       7.2   \n",
      "3                           0.0                       7.2   \n",
      "4                           0.0                       7.2   \n",
      "\n",
      "    MargarethenklippeMin15Q   SennhuetteMin15W   SennhuetteMin15Q  Unnamed: 8  \n",
      "0                  0.037909                4.4           0.031730         NaN  \n",
      "1                  0.037909                4.3           0.030458         NaN  \n",
      "2                  0.036720                4.4           0.031730         NaN  \n",
      "3                  0.036720                4.5           0.033025         NaN  \n",
      "4                  0.036720                4.4           0.031730         NaN   (514176, 9)\n",
      " \n",
      "df after droping the first 4 columns          MargarethenklippeMin15W   MargarethenklippeMin15Q   SennhuetteMin15W  \\\n",
      "0                            7.3                  0.037909                4.4   \n",
      "1                            7.3                  0.037909                4.3   \n",
      "2                            7.2                  0.036720                4.4   \n",
      "3                            7.2                  0.036720                4.5   \n",
      "4                            7.2                  0.036720                4.4   \n",
      "...                          ...                       ...                ...   \n",
      "514171                       6.8                  0.039000                3.2   \n",
      "514172                       6.8                  0.039000                3.2   \n",
      "514173                       6.7                  0.037000                3.2   \n",
      "514174                       6.8                  0.039000                3.3   \n",
      "514175                       6.8                  0.039000                3.2   \n",
      "\n",
      "         SennhuetteMin15Q  Unnamed: 8  \n",
      "0                0.031730         NaN  \n",
      "1                0.030458         NaN  \n",
      "2                0.031730         NaN  \n",
      "3                0.033025         NaN  \n",
      "4                0.031730         NaN  \n",
      "...                   ...         ...  \n",
      "514171           0.019000         NaN  \n",
      "514172           0.019000         NaN  \n",
      "514173           0.019000         NaN  \n",
      "514174           0.019000         NaN  \n",
      "514175           0.019000         NaN  \n",
      "\n",
      "[514176 rows x 5 columns]\n",
      "\n",
      "Dropping columns with NaN values...\n",
      "\n",
      "df after droping NaN columns:         MargarethenklippeMin15W  MargarethenklippeMin15Q  SennhuetteMin15W  \\\n",
      "0                           7.3                 0.037909               4.4   \n",
      "1                           7.3                 0.037909               4.3   \n",
      "2                           7.2                 0.036720               4.4   \n",
      "3                           7.2                 0.036720               4.5   \n",
      "4                           7.2                 0.036720               4.4   \n",
      "...                         ...                      ...               ...   \n",
      "514171                      6.8                 0.039000               3.2   \n",
      "514172                      6.8                 0.039000               3.2   \n",
      "514173                      6.7                 0.037000               3.2   \n",
      "514174                      6.8                 0.039000               3.3   \n",
      "514175                      6.8                 0.039000               3.2   \n",
      "\n",
      "        SennhuetteMin15Q  \n",
      "0               0.031730  \n",
      "1               0.030458  \n",
      "2               0.031730  \n",
      "3               0.033025  \n",
      "4               0.031730  \n",
      "...                  ...  \n",
      "514171          0.019000  \n",
      "514172          0.019000  \n",
      "514173          0.019000  \n",
      "514174          0.019000  \n",
      "514175          0.019000  \n",
      "\n",
      "[514176 rows x 4 columns] \n",
      "Final shape after dropping NaN columns: (514176, 4)\n"
     ]
    },
    {
     "data": {
      "text/html": [
       "<div>\n",
       "<style scoped>\n",
       "    .dataframe tbody tr th:only-of-type {\n",
       "        vertical-align: middle;\n",
       "    }\n",
       "\n",
       "    .dataframe tbody tr th {\n",
       "        vertical-align: top;\n",
       "    }\n",
       "\n",
       "    .dataframe thead th {\n",
       "        text-align: right;\n",
       "    }\n",
       "</style>\n",
       "<table border=\"1\" class=\"dataframe\">\n",
       "  <thead>\n",
       "    <tr style=\"text-align: right;\">\n",
       "      <th></th>\n",
       "      <th>MargarethenklippeMin15W</th>\n",
       "      <th>MargarethenklippeMin15Q</th>\n",
       "      <th>SennhuetteMin15W</th>\n",
       "      <th>SennhuetteMin15Q</th>\n",
       "    </tr>\n",
       "  </thead>\n",
       "  <tbody>\n",
       "    <tr>\n",
       "      <th>0</th>\n",
       "      <td>7.3</td>\n",
       "      <td>0.037909</td>\n",
       "      <td>4.4</td>\n",
       "      <td>0.031730</td>\n",
       "    </tr>\n",
       "    <tr>\n",
       "      <th>1</th>\n",
       "      <td>7.3</td>\n",
       "      <td>0.037909</td>\n",
       "      <td>4.3</td>\n",
       "      <td>0.030458</td>\n",
       "    </tr>\n",
       "    <tr>\n",
       "      <th>2</th>\n",
       "      <td>7.2</td>\n",
       "      <td>0.036720</td>\n",
       "      <td>4.4</td>\n",
       "      <td>0.031730</td>\n",
       "    </tr>\n",
       "    <tr>\n",
       "      <th>3</th>\n",
       "      <td>7.2</td>\n",
       "      <td>0.036720</td>\n",
       "      <td>4.5</td>\n",
       "      <td>0.033025</td>\n",
       "    </tr>\n",
       "    <tr>\n",
       "      <th>4</th>\n",
       "      <td>7.2</td>\n",
       "      <td>0.036720</td>\n",
       "      <td>4.4</td>\n",
       "      <td>0.031730</td>\n",
       "    </tr>\n",
       "  </tbody>\n",
       "</table>\n",
       "</div>"
      ],
      "text/plain": [
       "   MargarethenklippeMin15W  MargarethenklippeMin15Q  SennhuetteMin15W  \\\n",
       "0                      7.3                 0.037909               4.4   \n",
       "1                      7.3                 0.037909               4.3   \n",
       "2                      7.2                 0.036720               4.4   \n",
       "3                      7.2                 0.036720               4.5   \n",
       "4                      7.2                 0.036720               4.4   \n",
       "\n",
       "   SennhuetteMin15Q  \n",
       "0          0.031730  \n",
       "1          0.030458  \n",
       "2          0.031730  \n",
       "3          0.033025  \n",
       "4          0.031730  "
      ]
     },
     "execution_count": 7,
     "metadata": {},
     "output_type": "execute_result"
    }
   ],
   "source": [
    "# TODO load the flood dataset using pandas\n",
    "\n",
    "####################\n",
    "df = pd.read_csv('flood_data.csv', sep=';')\n",
    "print (df.head(), df.shape)\n",
    "\n",
    "#df.columns.tolist()\n",
    "\n",
    "df = df.drop(df.columns[:4], axis=1)  # Drop the first four columns\n",
    "print (f\" \\ndf after droping the first 4 columns {df}\")\n",
    "\n",
    "\n",
    "print(\"\\nDropping columns with NaN values...\")\n",
    "df = df.dropna(axis =1)\n",
    "print(f\"\\ndf after droping NaN columns: {df} \\nFinal shape after dropping NaN columns: {df.shape}\")\n",
    "\n",
    "df.head()\n",
    "\n",
    "\n",
    "\n",
    "\n",
    "\n",
    "####################"
   ]
  },
  {
   "cell_type": "code",
   "execution_count": 8,
   "metadata": {},
   "outputs": [
    {
     "data": {
      "text/plain": [
       "(514176, (514176, 2), (514176, 2))"
      ]
     },
     "execution_count": 8,
     "metadata": {},
     "output_type": "execute_result"
    }
   ],
   "source": [
    "# TODO split the data into inputs X and outputs y\n",
    "####################\n",
    "X = df.iloc[:, :2].values # First 2 columns (Margarethenklippe W and Q)\n",
    "y = df.iloc[:, 2:].values # Remaining columns (Sennhuette W and Q)\n",
    "####################\n",
    "\n",
    "N_samples = X.shape[0] # number of samples\n",
    "N_samples, X.shape, y.shape"
   ]
  },
  {
   "cell_type": "code",
   "execution_count": 9,
   "metadata": {},
   "outputs": [
    {
     "name": "stdout",
     "output_type": "stream",
     "text": [
      "X shape: (514176, 2), y shape: (514176, 2)\n",
      "train size: 385632, 75.00% of the data\n",
      "validation size: 77126, 15.00% of the data\n",
      "test size: 51418, 10.00% of the data\n"
     ]
    }
   ],
   "source": [
    "# TODO shuffle the data and get the NumPy arrays:\n",
    "####################\n",
    "from sklearn.utils import shuffle\n",
    "X, y = shuffle(X, y, random_state=SEED)\n",
    "print(f\"X shape: {X.shape}, y shape: {y.shape}\")\n",
    "####################\n",
    "\n",
    "# TODO split the data to train, validation, and test:\n",
    "####################\n",
    "train_size = int(N_samples * 0.75) # train size\n",
    "val_size = int(N_samples * 0.15) # validation size\n",
    "test_size = N_samples - train_size - val_size # test size\n",
    "\n",
    "\n",
    "print (f\"train size: {train_size}, {train_size/N_samples:.2%} of the data\")\n",
    "print (f\"validation size: {val_size}, {val_size/N_samples:.2%} of the data\")\n",
    "print (f\"test size: {test_size}, {test_size/N_samples:.2%} of the data\")\n",
    "\n",
    "\n",
    "# Split the data\n",
    "X_train = X[:train_size]\n",
    "y_train = y[:train_size]\n",
    "\n",
    "X_val = X[train_size:train_size+val_size]\n",
    "y_val = y[train_size:train_size+val_size]\n",
    "\n",
    "X_test = X[train_size+val_size:]\n",
    "y_test = y[train_size+val_size:]\n",
    "####################"
   ]
  },
  {
   "attachments": {},
   "cell_type": "markdown",
   "metadata": {},
   "source": [
    "Let us define a class for standardizing the data. We will implement a function that applies the scaling (`apply`) and a function that maps the scaled data back into the original scale (`apply_reverse`). "
   ]
  },
  {
   "cell_type": "code",
   "execution_count": 10,
   "metadata": {},
   "outputs": [],
   "source": [
    "# TODO create a class for standardizing the data.\n",
    "\n",
    "####################\n",
    "\n",
    "class StandardScaler:\n",
    "    def __init__(self):\n",
    "        self.mean = None \n",
    "        self.std = None \n",
    "    \n",
    "    def fit(self, data):\n",
    "        # compute mean and std of the data \n",
    "\n",
    "        self.mean = np.mean(data, axis=0)\n",
    "        self.std = np.std(data, axis=0)\n",
    "        return self.mean, self.std\n",
    "    \n",
    "    def apply(self, data): #This is equivalent to sklearn's transform() method\n",
    "        # apply standardization (data - mean) / std\n",
    "        if self.mean is None or self.std is None:\n",
    "            raise ValueError(\"Scaler must be fitted before applying\")\n",
    "        return (data - self.mean) / self.std\n",
    "    \n",
    "    def apply_reverse(self, scaled_data):\n",
    "        # reverse the standardization\n",
    "        if self.mean is None or self.std is None:\n",
    "            raise ValueError(\"Scaler must be fitted before applying reverse transformation\")\n",
    "        return (scaled_data * self.std) + self.mean\n",
    "####################"
   ]
  },
  {
   "cell_type": "code",
   "execution_count": 11,
   "metadata": {},
   "outputs": [
    {
     "name": "stdout",
     "output_type": "stream",
     "text": [
      "Data standardization completed\n",
      "\n",
      "Original X_train stats:\n",
      "  Mean: [10.39186429  0.12313528]\n",
      "  Std:  [5.84790603 0.20412646]\n",
      "\n",
      "Standardized X_train stats:\n",
      "  Mean: [5.88427220e-14 5.74990004e-14]\n",
      "  Std:  [1. 1.]\n",
      "\n",
      "Original y_train stats:\n",
      "  Mean: [7.97057041 0.10807751]\n",
      "  Std:  [6.2627399  0.19941676]\n",
      "\n",
      "Standardized y_train stats:\n",
      "  Mean: [-2.37570816e-14  5.26834649e-14]\n",
      "  Std:  [1. 1.]\n"
     ]
    }
   ],
   "source": [
    "# TODO standardize the data using the class you defined in the cell above.\n",
    "\n",
    "####################\n",
    "# Create scalers for inputs and outputs\n",
    "scaler_X = StandardScaler()\n",
    "scaler_y = StandardScaler()\n",
    "\n",
    "# Fit the scalers on the training data ONLY!\n",
    "scaler_X.fit(X_train)\n",
    "scaler_y.fit(y_train)\n",
    "\n",
    "# Apply the scalers to the training, validation, and test data\n",
    "\n",
    "X_train_scaled = scaler_X.apply(X_train)\n",
    "X_val_scaled = scaler_X.apply(X_val)\n",
    "X_test_scaled = scaler_X.apply(X_test)\n",
    "\n",
    "y_train_scaled = scaler_y.apply(y_train)\n",
    "y_val_scaled = scaler_y.apply(y_val)\n",
    "y_test_scaled = scaler_y.apply(y_test)\n",
    "\n",
    "print(\"Data standardization completed\")\n",
    "\n",
    "# Verify standardization\n",
    "print(f\"\\nOriginal X_train stats:\")\n",
    "print(f\"  Mean: {np.mean(X_train, axis=0)}\")\n",
    "print(f\"  Std:  {np.std(X_train, axis=0)}\")\n",
    "\n",
    "print(f\"\\nStandardized X_train stats:\")\n",
    "print(f\"  Mean: {np.mean(X_train_scaled, axis=0)}\")\n",
    "print(f\"  Std:  {np.std(X_train_scaled, axis=0)}\")\n",
    "\n",
    "print(f\"\\nOriginal y_train stats:\")\n",
    "print(f\"  Mean: {np.mean(y_train, axis=0)}\")\n",
    "print(f\"  Std:  {np.std(y_train, axis=0)}\")\n",
    "\n",
    "print(f\"\\nStandardized y_train stats:\")\n",
    "print(f\"  Mean: {np.mean(y_train_scaled, axis=0)}\")\n",
    "print(f\"  Std:  {np.std(y_train_scaled, axis=0)}\")\n",
    "#a,b = scaler_y.fit(y_train)\n",
    "#a,b\n",
    "\n",
    "\n",
    "\n",
    "####################"
   ]
  },
  {
   "attachments": {},
   "cell_type": "markdown",
   "metadata": {},
   "source": [
    "# Subtask 2.3\n",
    "\n",
    "## Implementing an MLP using TensorFlow Functional API.\n",
    "\n",
    "#### TODO\n",
    "\n",
    "- Implement an MLP using TensorFlow Functional API. \n",
    "- Print the model architecture using `model.summary()`."
   ]
  },
  {
   "cell_type": "code",
   "execution_count": 12,
   "metadata": {},
   "outputs": [],
   "source": [
    "# TODO implement the model \n",
    "\n",
    "\n",
    "\n",
    "####################\n",
    "def MLP(N_hidden_layers, N_neurons, activation):\n",
    "    input_layer = layers.Input(shape = (2,))\n",
    "    x = input_layer\n",
    "    for i in range(N_hidden_layers):\n",
    "        x = layers.Dense(N_neurons, activation=activation, name = f\"hidden_{i+1}\")(x)\n",
    "    output_layer = layers.Dense(2, activation='linear', name='output')(x)  # Linear activation for regression tasks\n",
    "\n",
    "    #creating the model\n",
    "    model = models.Model(inputs = input_layer, outputs = output_layer)\n",
    "    return model\n",
    "\n",
    "model = MLP(\n",
    "    N_hidden_layers=2,  # Number of hidden layers\n",
    "    N_neurons=64,       # Number of neurons in each hidden layer\n",
    "    activation='relu'  # Activation function for hidden layers\n",
    ")\n",
    "####################\n",
    "\n",
    "\n"
   ]
  },
  {
   "cell_type": "code",
   "execution_count": 13,
   "metadata": {},
   "outputs": [
    {
     "name": "stdout",
     "output_type": "stream",
     "text": [
      "MODEL ARCHITECTURE:\n"
     ]
    },
    {
     "data": {
      "text/html": [
       "<pre style=\"white-space:pre;overflow-x:auto;line-height:normal;font-family:Menlo,'DejaVu Sans Mono',consolas,'Courier New',monospace\"><span style=\"font-weight: bold\">Model: \"functional\"</span>\n",
       "</pre>\n"
      ],
      "text/plain": [
       "\u001b[1mModel: \"functional\"\u001b[0m\n"
      ]
     },
     "metadata": {},
     "output_type": "display_data"
    },
    {
     "data": {
      "text/html": [
       "<pre style=\"white-space:pre;overflow-x:auto;line-height:normal;font-family:Menlo,'DejaVu Sans Mono',consolas,'Courier New',monospace\">┏━━━━━━━━━━━━━━━━━━━━━━━━━━━━━━━━━┳━━━━━━━━━━━━━━━━━━━━━━━━┳━━━━━━━━━━━━━━━┓\n",
       "┃<span style=\"font-weight: bold\"> Layer (type)                    </span>┃<span style=\"font-weight: bold\"> Output Shape           </span>┃<span style=\"font-weight: bold\">       Param # </span>┃\n",
       "┡━━━━━━━━━━━━━━━━━━━━━━━━━━━━━━━━━╇━━━━━━━━━━━━━━━━━━━━━━━━╇━━━━━━━━━━━━━━━┩\n",
       "│ input_layer (<span style=\"color: #0087ff; text-decoration-color: #0087ff\">InputLayer</span>)        │ (<span style=\"color: #00d7ff; text-decoration-color: #00d7ff\">None</span>, <span style=\"color: #00af00; text-decoration-color: #00af00\">2</span>)              │             <span style=\"color: #00af00; text-decoration-color: #00af00\">0</span> │\n",
       "├─────────────────────────────────┼────────────────────────┼───────────────┤\n",
       "│ hidden_1 (<span style=\"color: #0087ff; text-decoration-color: #0087ff\">Dense</span>)                │ (<span style=\"color: #00d7ff; text-decoration-color: #00d7ff\">None</span>, <span style=\"color: #00af00; text-decoration-color: #00af00\">64</span>)             │           <span style=\"color: #00af00; text-decoration-color: #00af00\">192</span> │\n",
       "├─────────────────────────────────┼────────────────────────┼───────────────┤\n",
       "│ hidden_2 (<span style=\"color: #0087ff; text-decoration-color: #0087ff\">Dense</span>)                │ (<span style=\"color: #00d7ff; text-decoration-color: #00d7ff\">None</span>, <span style=\"color: #00af00; text-decoration-color: #00af00\">64</span>)             │         <span style=\"color: #00af00; text-decoration-color: #00af00\">4,160</span> │\n",
       "├─────────────────────────────────┼────────────────────────┼───────────────┤\n",
       "│ output (<span style=\"color: #0087ff; text-decoration-color: #0087ff\">Dense</span>)                  │ (<span style=\"color: #00d7ff; text-decoration-color: #00d7ff\">None</span>, <span style=\"color: #00af00; text-decoration-color: #00af00\">2</span>)              │           <span style=\"color: #00af00; text-decoration-color: #00af00\">130</span> │\n",
       "└─────────────────────────────────┴────────────────────────┴───────────────┘\n",
       "</pre>\n"
      ],
      "text/plain": [
       "┏━━━━━━━━━━━━━━━━━━━━━━━━━━━━━━━━━┳━━━━━━━━━━━━━━━━━━━━━━━━┳━━━━━━━━━━━━━━━┓\n",
       "┃\u001b[1m \u001b[0m\u001b[1mLayer (type)                   \u001b[0m\u001b[1m \u001b[0m┃\u001b[1m \u001b[0m\u001b[1mOutput Shape          \u001b[0m\u001b[1m \u001b[0m┃\u001b[1m \u001b[0m\u001b[1m      Param #\u001b[0m\u001b[1m \u001b[0m┃\n",
       "┡━━━━━━━━━━━━━━━━━━━━━━━━━━━━━━━━━╇━━━━━━━━━━━━━━━━━━━━━━━━╇━━━━━━━━━━━━━━━┩\n",
       "│ input_layer (\u001b[38;5;33mInputLayer\u001b[0m)        │ (\u001b[38;5;45mNone\u001b[0m, \u001b[38;5;34m2\u001b[0m)              │             \u001b[38;5;34m0\u001b[0m │\n",
       "├─────────────────────────────────┼────────────────────────┼───────────────┤\n",
       "│ hidden_1 (\u001b[38;5;33mDense\u001b[0m)                │ (\u001b[38;5;45mNone\u001b[0m, \u001b[38;5;34m64\u001b[0m)             │           \u001b[38;5;34m192\u001b[0m │\n",
       "├─────────────────────────────────┼────────────────────────┼───────────────┤\n",
       "│ hidden_2 (\u001b[38;5;33mDense\u001b[0m)                │ (\u001b[38;5;45mNone\u001b[0m, \u001b[38;5;34m64\u001b[0m)             │         \u001b[38;5;34m4,160\u001b[0m │\n",
       "├─────────────────────────────────┼────────────────────────┼───────────────┤\n",
       "│ output (\u001b[38;5;33mDense\u001b[0m)                  │ (\u001b[38;5;45mNone\u001b[0m, \u001b[38;5;34m2\u001b[0m)              │           \u001b[38;5;34m130\u001b[0m │\n",
       "└─────────────────────────────────┴────────────────────────┴───────────────┘\n"
      ]
     },
     "metadata": {},
     "output_type": "display_data"
    },
    {
     "data": {
      "text/html": [
       "<pre style=\"white-space:pre;overflow-x:auto;line-height:normal;font-family:Menlo,'DejaVu Sans Mono',consolas,'Courier New',monospace\"><span style=\"font-weight: bold\"> Total params: </span><span style=\"color: #00af00; text-decoration-color: #00af00\">4,482</span> (17.51 KB)\n",
       "</pre>\n"
      ],
      "text/plain": [
       "\u001b[1m Total params: \u001b[0m\u001b[38;5;34m4,482\u001b[0m (17.51 KB)\n"
      ]
     },
     "metadata": {},
     "output_type": "display_data"
    },
    {
     "data": {
      "text/html": [
       "<pre style=\"white-space:pre;overflow-x:auto;line-height:normal;font-family:Menlo,'DejaVu Sans Mono',consolas,'Courier New',monospace\"><span style=\"font-weight: bold\"> Trainable params: </span><span style=\"color: #00af00; text-decoration-color: #00af00\">4,482</span> (17.51 KB)\n",
       "</pre>\n"
      ],
      "text/plain": [
       "\u001b[1m Trainable params: \u001b[0m\u001b[38;5;34m4,482\u001b[0m (17.51 KB)\n"
      ]
     },
     "metadata": {},
     "output_type": "display_data"
    },
    {
     "data": {
      "text/html": [
       "<pre style=\"white-space:pre;overflow-x:auto;line-height:normal;font-family:Menlo,'DejaVu Sans Mono',consolas,'Courier New',monospace\"><span style=\"font-weight: bold\"> Non-trainable params: </span><span style=\"color: #00af00; text-decoration-color: #00af00\">0</span> (0.00 B)\n",
       "</pre>\n"
      ],
      "text/plain": [
       "\u001b[1m Non-trainable params: \u001b[0m\u001b[38;5;34m0\u001b[0m (0.00 B)\n"
      ]
     },
     "metadata": {},
     "output_type": "display_data"
    }
   ],
   "source": [
    "# TODO print the model architecture\n",
    "####################\n",
    "print(\"MODEL ARCHITECTURE:\")\n",
    "\n",
    "model.summary()\n",
    "####################"
   ]
  },
  {
   "cell_type": "code",
   "execution_count": 39,
   "metadata": {},
   "outputs": [],
   "source": [
    "def new_LR(LR, epochs):\n",
    "    #tf.keras.backend,clear_session()\n",
    "    model_name = MLP(N_hidden_layers=2, N_neurons=128, activation=\"relu\") \n",
    "    optimizer = optimizers.SGD(learning_rate=LR)\n",
    "    loss_fn = losses.MeanSquaredError()\n",
    "    model_name.compile(optimizer=optimizer, loss=loss_fn)\n",
    "    print(\"Training the model ---\")\n",
    "\n",
    "    history = model_name.fit(\n",
    "        X_train,\n",
    "        y_train,\n",
    "        epochs = epochs,\n",
    "        batch_size = 512,\n",
    "        validation_data = (X_val, y_val),\n",
    "        verbose = 2 \n",
    "                        \n",
    "    )\n",
    "\n",
    "\n",
    "    return model_name, history"
   ]
  },
  {
   "attachments": {},
   "cell_type": "markdown",
   "metadata": {},
   "source": [
    "# Subtask 2.4\n",
    "\n",
    "## Optimizer, loss function and training\n",
    "\n",
    "#### TODO\n",
    "\n",
    "- Define the optimizer and the loss function using `tf.keras.optimizers` and `tf.keras.losses`, respectively. \n",
    "    - Use stochastic gradient descent (SGD) with a learning rate of 1.0 as the optimizer.\n",
    "    - Use mean-squared error as the loss function.\n",
    "- Compile the model using the optimizer and the loss.\n",
    "- Train the model and get the history of training and validation losses.\n",
    "    - Train the model for 10 epochs.\n",
    "    - Use a batch size of 512.\n",
    "- Plot the learning curves."
   ]
  },
  {
   "cell_type": "code",
   "execution_count": 16,
   "metadata": {},
   "outputs": [
    {
     "name": "stdout",
     "output_type": "stream",
     "text": [
      "Optimizer SGD LR=1.0\n",
      "   Type: SGD\n",
      "   Learning rate: 1.0\n"
     ]
    }
   ],
   "source": [
    "# TODO define the optimizer and the loss function\n",
    "####################\n",
    "\n",
    "# Define SGD optimizer with learning rate 1.0\n",
    "optimizer = optimizers.SGD(learning_rate=1.0) #1.0 isnt this too high?\n",
    "print(\"Optimizer SGD LR=1.0\")\n",
    "print(f\"   Type: {type(optimizer).__name__}\")\n",
    "print(f\"   Learning rate: {optimizer.learning_rate.numpy()}\")\n",
    "\n",
    "loss_function = losses.MeanSquaredError() # Mean Squared Error for regression tasks\n",
    "\n",
    "\n",
    "####################\n",
    "\n",
    "# TODO compile the model\n",
    "####################\n",
    "\n",
    "model.compile(optimizer = optimizer, loss = loss_function)\n",
    "\n",
    "\n",
    "# Display compilation details\n",
    "#print(f\"\\nCompiled model details:\")\n",
    "#print(f\"- Optimizer: {model.optimizer.__class__.__name__}\")\n",
    "#print(f\"- Loss: {model.loss}\")\n",
    "#print(f\"- Metrics: {model.metrics_names}\")\n",
    "\n",
    "\n",
    "####################"
   ]
  },
  {
   "cell_type": "code",
   "execution_count": 17,
   "metadata": {},
   "outputs": [
    {
     "name": "stdout",
     "output_type": "stream",
     "text": [
      "Epoch 1/10\n"
     ]
    },
    {
     "name": "stderr",
     "output_type": "stream",
     "text": [
      "2025-06-03 14:40:34.130833: I tensorflow/core/grappler/optimizers/custom_graph_optimizer_registry.cc:117] Plugin optimizer for device_type GPU is enabled.\n"
     ]
    },
    {
     "name": "stdout",
     "output_type": "stream",
     "text": [
      "\u001b[1m754/754\u001b[0m \u001b[32m━━━━━━━━━━━━━━━━━━━━\u001b[0m\u001b[37m\u001b[0m \u001b[1m5s\u001b[0m 6ms/step - loss: nan - val_loss: nan\n",
      "Epoch 2/10\n",
      "\u001b[1m754/754\u001b[0m \u001b[32m━━━━━━━━━━━━━━━━━━━━\u001b[0m\u001b[37m\u001b[0m \u001b[1m4s\u001b[0m 6ms/step - loss: nan - val_loss: nan\n",
      "Epoch 3/10\n",
      "\u001b[1m754/754\u001b[0m \u001b[32m━━━━━━━━━━━━━━━━━━━━\u001b[0m\u001b[37m\u001b[0m \u001b[1m4s\u001b[0m 5ms/step - loss: nan - val_loss: nan\n",
      "Epoch 4/10\n",
      "\u001b[1m754/754\u001b[0m \u001b[32m━━━━━━━━━━━━━━━━━━━━\u001b[0m\u001b[37m\u001b[0m \u001b[1m4s\u001b[0m 5ms/step - loss: nan - val_loss: nan\n",
      "Epoch 5/10\n",
      "\u001b[1m754/754\u001b[0m \u001b[32m━━━━━━━━━━━━━━━━━━━━\u001b[0m\u001b[37m\u001b[0m \u001b[1m4s\u001b[0m 6ms/step - loss: nan - val_loss: nan\n",
      "Epoch 6/10\n",
      "\u001b[1m754/754\u001b[0m \u001b[32m━━━━━━━━━━━━━━━━━━━━\u001b[0m\u001b[37m\u001b[0m \u001b[1m6s\u001b[0m 8ms/step - loss: nan - val_loss: nan\n",
      "Epoch 7/10\n",
      "\u001b[1m754/754\u001b[0m \u001b[32m━━━━━━━━━━━━━━━━━━━━\u001b[0m\u001b[37m\u001b[0m \u001b[1m5s\u001b[0m 6ms/step - loss: nan - val_loss: nan\n",
      "Epoch 8/10\n",
      "\u001b[1m754/754\u001b[0m \u001b[32m━━━━━━━━━━━━━━━━━━━━\u001b[0m\u001b[37m\u001b[0m \u001b[1m4s\u001b[0m 6ms/step - loss: nan - val_loss: nan\n",
      "Epoch 9/10\n",
      "\u001b[1m754/754\u001b[0m \u001b[32m━━━━━━━━━━━━━━━━━━━━\u001b[0m\u001b[37m\u001b[0m \u001b[1m4s\u001b[0m 6ms/step - loss: nan - val_loss: nan\n",
      "Epoch 10/10\n",
      "\u001b[1m754/754\u001b[0m \u001b[32m━━━━━━━━━━━━━━━━━━━━\u001b[0m\u001b[37m\u001b[0m \u001b[1m4s\u001b[0m 6ms/step - loss: nan - val_loss: nan\n"
     ]
    }
   ],
   "source": [
    "# TODO train the model \n",
    "####################\n",
    "history = model.fit(X_train_scaled, y_train_scaled,\n",
    "          epochs = 10, # Number of epochs\n",
    "          batch_size = 512, # Batch size\n",
    "          validation_data = (X_val_scaled, y_val_scaled),\n",
    "          verbose = 1 # Verbosity mode, to show progress during training\n",
    "          )\n",
    "\n",
    "####################"
   ]
  },
  {
   "cell_type": "code",
   "execution_count": 18,
   "metadata": {},
   "outputs": [
    {
     "data": {
      "image/png": "[encoded data removed]",
      "text/plain": [
       "<Figure size 500x400 with 1 Axes>"
      ]
     },
     "metadata": {},
     "output_type": "display_data"
    }
   ],
   "source": [
    "\n",
    "def plot_learning_curves(hist):\n",
    "    epochs = np.arange(0, len(hist.history['loss'])) + 1\n",
    "    sns.set(style='ticks')\n",
    "    fig, ax = plt.subplots(1, 1, figsize = (5, 4))\n",
    "    ax.plot(epochs, hist.history['loss'], label = 'Training loss', marker = 'o', ls = '--')\n",
    "    ax.plot(epochs, hist.history['val_loss'], label = 'Validation loss', marker = 'o', ls = '--')\n",
    "\n",
    "    ax.set_xlabel('Epoch')\n",
    "    ax.set_ylabel('Loss')\n",
    "    ax.set_title('Learning curves')\n",
    "    ax.legend()\n",
    "    sns.despine(trim=True, offset=5)\n",
    "\n",
    "# TODO Use the function above to plot the learning curves\n",
    "####################\n",
    "plot_learning_curves(history)\n",
    "####################"
   ]
  },
  {
   "attachments": {},
   "cell_type": "markdown",
   "metadata": {},
   "source": [
    "**TODO Your answer here**\n",
    "\n",
    "Does the model learn properly? Why?\n",
    "\n",
    "\n",
    "**TODO Your answer here**"
   ]
  },
  {
   "attachments": {},
   "cell_type": "markdown",
   "metadata": {},
   "source": [
    "<span style='color:red'>**Your answer: \n",
    "No, this happens beause we set the learning rate very high to 1.0. This causes gradient to become extremley large during backprobogation which lead to very big weight updates, so it could grow to psivitive or negative infinity ----> mathematical operations producing NaN values\n",
    "**</span>\n",
    "\n",
    "...\n"
   ]
  },
  {
   "attachments": {},
   "cell_type": "markdown",
   "metadata": {},
   "source": [
    "# Subtask 2.5\n",
    "\n",
    "## Learning rate\n",
    "\n",
    "#### TODO\n",
    "- Decrease the learning rate logarithmically, i.e. by a factor of 10, until your model starts to train.\n",
    "    - Train the model for 10 epochs.\n",
    "    - Use a batch size of 512.\n",
    "- Plot the training curves of the loss and the accuracies as in Subtask 1.3. Use the function defined above.\n"
   ]
  },
  {
   "cell_type": "code",
   "execution_count": 41,
   "metadata": {},
   "outputs": [
    {
     "name": "stdout",
     "output_type": "stream",
     "text": [
      "Training the model ---\n",
      "Epoch 1/10\n",
      "754/754 - 5s - 6ms/step - loss: nan - val_loss: nan\n",
      "Epoch 2/10\n",
      "754/754 - 5s - 6ms/step - loss: nan - val_loss: nan\n",
      "Epoch 3/10\n",
      "754/754 - 4s - 6ms/step - loss: nan - val_loss: nan\n",
      "Epoch 4/10\n",
      "754/754 - 4s - 6ms/step - loss: nan - val_loss: nan\n",
      "Epoch 5/10\n",
      "754/754 - 4s - 5ms/step - loss: nan - val_loss: nan\n",
      "Epoch 6/10\n",
      "754/754 - 4s - 5ms/step - loss: nan - val_loss: nan\n",
      "Epoch 7/10\n",
      "754/754 - 4s - 6ms/step - loss: nan - val_loss: nan\n",
      "Epoch 8/10\n",
      "754/754 - 4s - 6ms/step - loss: nan - val_loss: nan\n",
      "Epoch 9/10\n",
      "754/754 - 4s - 5ms/step - loss: nan - val_loss: nan\n",
      "Epoch 10/10\n",
      "754/754 - 4s - 6ms/step - loss: nan - val_loss: nan\n"
     ]
    },
    {
     "data": {
      "image/png": "[encoded data removed]",
      "text/plain": [
       "<Figure size 500x400 with 1 Axes>"
      ]
     },
     "metadata": {},
     "output_type": "display_data"
    }
   ],
   "source": [
    "#tf.keras.backend.clear_session() # Clear the session to free up resources\n",
    "\n",
    "# learning rate = 0.1\n",
    "model , history = new_LR(0.1, 10)\n",
    "plot_learning_curves(history)\n",
    "####################\n"
   ]
  },
  {
   "cell_type": "code",
   "execution_count": 42,
   "metadata": {},
   "outputs": [
    {
     "name": "stdout",
     "output_type": "stream",
     "text": [
      "Training the model ---\n",
      "Epoch 1/10\n",
      "754/754 - 4s - 6ms/step - loss: nan - val_loss: nan\n",
      "Epoch 2/10\n",
      "754/754 - 4s - 6ms/step - loss: nan - val_loss: nan\n",
      "Epoch 3/10\n",
      "754/754 - 4s - 5ms/step - loss: nan - val_loss: nan\n",
      "Epoch 4/10\n",
      "754/754 - 4s - 5ms/step - loss: nan - val_loss: nan\n",
      "Epoch 5/10\n",
      "754/754 - 4s - 5ms/step - loss: nan - val_loss: nan\n",
      "Epoch 6/10\n",
      "754/754 - 4s - 5ms/step - loss: nan - val_loss: nan\n",
      "Epoch 7/10\n",
      "754/754 - 4s - 6ms/step - loss: nan - val_loss: nan\n",
      "Epoch 8/10\n",
      "754/754 - 5s - 6ms/step - loss: nan - val_loss: nan\n",
      "Epoch 9/10\n",
      "754/754 - 4s - 5ms/step - loss: nan - val_loss: nan\n",
      "Epoch 10/10\n",
      "754/754 - 4s - 5ms/step - loss: nan - val_loss: nan\n"
     ]
    },
    {
     "data": {
      "image/png": "[encoded data removed]",
      "text/plain": [
       "<Figure size 500x400 with 1 Axes>"
      ]
     },
     "metadata": {},
     "output_type": "display_data"
    }
   ],
   "source": [
    "#tf.keras.backend.clear_session() # Clear the session to free up resources\n",
    "\n",
    "# learning rate = 0.01\n",
    "####################\n",
    "\n",
    "model , history = new_LR(0.01, 10)\n",
    "plot_learning_curves(history)\n",
    "\n",
    "####################"
   ]
  },
  {
   "cell_type": "code",
   "execution_count": 43,
   "metadata": {},
   "outputs": [
    {
     "name": "stdout",
     "output_type": "stream",
     "text": [
      "Training the model ---\n",
      "Epoch 1/10\n",
      "754/754 - 5s - 6ms/step - loss: 1.5909 - val_loss: 1.3433\n",
      "Epoch 2/10\n",
      "754/754 - 5s - 6ms/step - loss: 1.1062 - val_loss: 1.1418\n",
      "Epoch 3/10\n",
      "754/754 - 5s - 7ms/step - loss: 0.9933 - val_loss: 1.1354\n",
      "Epoch 4/10\n",
      "754/754 - 4s - 6ms/step - loss: 0.9828 - val_loss: 1.1315\n",
      "Epoch 5/10\n",
      "754/754 - 4s - 5ms/step - loss: 0.9804 - val_loss: 1.1249\n",
      "Epoch 6/10\n",
      "754/754 - 4s - 5ms/step - loss: 0.9784 - val_loss: 1.1180\n",
      "Epoch 7/10\n",
      "754/754 - 4s - 5ms/step - loss: 0.9764 - val_loss: 1.1115\n",
      "Epoch 8/10\n",
      "754/754 - 4s - 5ms/step - loss: 0.9747 - val_loss: 1.1067\n",
      "Epoch 9/10\n",
      "754/754 - 4s - 5ms/step - loss: 0.9731 - val_loss: 1.1007\n",
      "Epoch 10/10\n",
      "754/754 - 4s - 5ms/step - loss: 0.9716 - val_loss: 1.0967\n"
     ]
    },
    {
     "data": {
      "image/png": "[encoded data removed]",
      "text/plain": [
       "<Figure size 500x400 with 1 Axes>"
      ]
     },
     "metadata": {},
     "output_type": "display_data"
    }
   ],
   "source": [
    "#tf.keras.backend.clear_session() # Clear the session to free up resources\n",
    "\n",
    "# learning rate = 0.001\n",
    "\n",
    "model , history = new_LR(0.001, 10)\n",
    "plot_learning_curves(history)\n",
    "####################"
   ]
  },
  {
   "cell_type": "code",
   "execution_count": 44,
   "metadata": {},
   "outputs": [
    {
     "name": "stdout",
     "output_type": "stream",
     "text": [
      "Training the model ---\n",
      "Epoch 1/10\n",
      "754/754 - 4s - 6ms/step - loss: 2.5470 - val_loss: 1.9960\n",
      "Epoch 2/10\n",
      "754/754 - 4s - 5ms/step - loss: 1.8905 - val_loss: 1.9018\n",
      "Epoch 3/10\n",
      "754/754 - 4s - 5ms/step - loss: 1.8015 - val_loss: 1.8147\n",
      "Epoch 4/10\n",
      "754/754 - 4s - 5ms/step - loss: 1.7190 - val_loss: 1.7335\n",
      "Epoch 5/10\n",
      "754/754 - 4s - 5ms/step - loss: 1.6416 - val_loss: 1.6567\n",
      "Epoch 6/10\n",
      "754/754 - 4s - 5ms/step - loss: 1.5687 - val_loss: 1.5846\n",
      "Epoch 7/10\n",
      "754/754 - 4s - 5ms/step - loss: 1.5004 - val_loss: 1.5168\n",
      "Epoch 8/10\n",
      "754/754 - 4s - 6ms/step - loss: 1.4364 - val_loss: 1.4532\n",
      "Epoch 9/10\n",
      "754/754 - 4s - 5ms/step - loss: 1.3767 - val_loss: 1.3939\n",
      "Epoch 10/10\n",
      "754/754 - 4s - 5ms/step - loss: 1.3214 - val_loss: 1.3390\n"
     ]
    },
    {
     "data": {
      "image/png": "[encoded data removed]",
      "text/plain": [
       "<Figure size 500x400 with 1 Axes>"
      ]
     },
     "metadata": {},
     "output_type": "display_data"
    }
   ],
   "source": [
    "#tf.keras.backend.clear_session() # Clear the session to free up resources\n",
    "\n",
    "# learning rate = 1e-4\n",
    "\n",
    "model , history = new_LR(0.0001, 10)\n",
    "plot_learning_curves(history)\n",
    "####################"
   ]
  },
  {
   "attachments": {},
   "cell_type": "markdown",
   "metadata": {},
   "source": [
    "## Model selection\n",
    "\n",
    "Is it the lowest validation loss that one can achieve? Probably not. So here are your TODOs:\n",
    "\n",
    "#### TODO:\n",
    "- Train the model for 100 epochs and plot the learning curves. Use learning rate of 0.01.\n",
    "\n",
    "#### TODO from now on, for all subsequent tasks:\n",
    "- Print the overall best validation loss and the epoch at which it occurred of.\n"
   ]
  },
  {
   "cell_type": "code",
   "execution_count": 45,
   "metadata": {},
   "outputs": [
    {
     "name": "stdout",
     "output_type": "stream",
     "text": [
      "Training the model ---\n",
      "Epoch 1/100\n",
      "754/754 - 5s - 6ms/step - loss: 1.7716 - val_loss: 1.4553\n",
      "Epoch 2/100\n",
      "754/754 - 4s - 5ms/step - loss: 1.1910 - val_loss: 1.1830\n",
      "Epoch 3/100\n",
      "754/754 - 4s - 5ms/step - loss: 1.0121 - val_loss: 1.1400\n",
      "Epoch 4/100\n",
      "754/754 - 4s - 5ms/step - loss: 0.9812 - val_loss: 1.1401\n",
      "Epoch 5/100\n",
      "754/754 - 4s - 5ms/step - loss: 0.9777 - val_loss: 1.1368\n",
      "Epoch 6/100\n",
      "754/754 - 4s - 6ms/step - loss: 0.9762 - val_loss: 1.1320\n",
      "Epoch 7/100\n",
      "754/754 - 4s - 5ms/step - loss: 0.9748 - val_loss: 1.1270\n",
      "Epoch 8/100\n",
      "754/754 - 4s - 5ms/step - loss: 0.9735 - val_loss: 1.1222\n",
      "Epoch 9/100\n",
      "754/754 - 4s - 5ms/step - loss: 0.9722 - val_loss: 1.1179\n",
      "Epoch 10/100\n",
      "754/754 - 4s - 5ms/step - loss: 0.9711 - val_loss: 1.1138\n",
      "Epoch 11/100\n",
      "754/754 - 4s - 5ms/step - loss: 0.9701 - val_loss: 1.1100\n",
      "Epoch 12/100\n",
      "754/754 - 4s - 5ms/step - loss: 0.9691 - val_loss: 1.1064\n",
      "Epoch 13/100\n",
      "754/754 - 4s - 6ms/step - loss: 0.9681 - val_loss: 1.1030\n",
      "Epoch 14/100\n",
      "754/754 - 4s - 5ms/step - loss: 0.9673 - val_loss: 1.0998\n",
      "Epoch 15/100\n",
      "754/754 - 4s - 5ms/step - loss: 0.9664 - val_loss: 1.0969\n",
      "Epoch 16/100\n",
      "754/754 - 4s - 5ms/step - loss: 0.9657 - val_loss: 1.0942\n",
      "Epoch 17/100\n",
      "754/754 - 4s - 5ms/step - loss: 0.9649 - val_loss: 1.0914\n",
      "Epoch 18/100\n",
      "754/754 - 4s - 5ms/step - loss: 0.9642 - val_loss: 1.0890\n",
      "Epoch 19/100\n",
      "754/754 - 4s - 6ms/step - loss: 0.9636 - val_loss: 1.0866\n",
      "Epoch 20/100\n",
      "754/754 - 4s - 6ms/step - loss: 0.9630 - val_loss: 1.0845\n",
      "Epoch 21/100\n",
      "754/754 - 4s - 6ms/step - loss: 0.9624 - val_loss: 1.0825\n",
      "Epoch 22/100\n",
      "754/754 - 4s - 5ms/step - loss: 0.9618 - val_loss: 1.0805\n",
      "Epoch 23/100\n",
      "754/754 - 4s - 5ms/step - loss: 0.9613 - val_loss: 1.0791\n",
      "Epoch 24/100\n",
      "754/754 - 4s - 5ms/step - loss: 0.9608 - val_loss: 1.0772\n",
      "Epoch 25/100\n",
      "754/754 - 4s - 6ms/step - loss: 0.9603 - val_loss: 1.0756\n",
      "Epoch 26/100\n",
      "754/754 - 4s - 5ms/step - loss: 0.9598 - val_loss: 1.0740\n",
      "Epoch 27/100\n",
      "754/754 - 4s - 5ms/step - loss: 0.9594 - val_loss: 1.0726\n",
      "Epoch 28/100\n",
      "754/754 - 4s - 6ms/step - loss: 0.9590 - val_loss: 1.0712\n",
      "Epoch 29/100\n",
      "754/754 - 4s - 5ms/step - loss: 0.9586 - val_loss: 1.0699\n",
      "Epoch 30/100\n",
      "754/754 - 4s - 5ms/step - loss: 0.9582 - val_loss: 1.0686\n",
      "Epoch 31/100\n",
      "754/754 - 4s - 5ms/step - loss: 0.9578 - val_loss: 1.0674\n",
      "Epoch 32/100\n",
      "754/754 - 4s - 5ms/step - loss: 0.9575 - val_loss: 1.0663\n",
      "Epoch 33/100\n",
      "754/754 - 4s - 5ms/step - loss: 0.9572 - val_loss: 1.0652\n",
      "Epoch 34/100\n",
      "754/754 - 4s - 5ms/step - loss: 0.9568 - val_loss: 1.0641\n",
      "Epoch 35/100\n",
      "754/754 - 4s - 5ms/step - loss: 0.9565 - val_loss: 1.0631\n",
      "Epoch 36/100\n",
      "754/754 - 4s - 5ms/step - loss: 0.9562 - val_loss: 1.0620\n",
      "Epoch 37/100\n",
      "754/754 - 4s - 5ms/step - loss: 0.9560 - val_loss: 1.0611\n",
      "Epoch 38/100\n",
      "754/754 - 4s - 5ms/step - loss: 0.9557 - val_loss: 1.0602\n",
      "Epoch 39/100\n",
      "754/754 - 4s - 5ms/step - loss: 0.9554 - val_loss: 1.0593\n",
      "Epoch 40/100\n",
      "754/754 - 4s - 5ms/step - loss: 0.9552 - val_loss: 1.0583\n",
      "Epoch 41/100\n",
      "754/754 - 4s - 5ms/step - loss: 0.9550 - val_loss: 1.0574\n",
      "Epoch 42/100\n",
      "754/754 - 4s - 5ms/step - loss: 0.9547 - val_loss: 1.0566\n",
      "Epoch 43/100\n",
      "754/754 - 6s - 7ms/step - loss: 0.9545 - val_loss: 1.0561\n",
      "Epoch 44/100\n",
      "754/754 - 4s - 6ms/step - loss: 0.9543 - val_loss: 1.0553\n",
      "Epoch 45/100\n",
      "754/754 - 4s - 5ms/step - loss: 0.9541 - val_loss: 1.0544\n",
      "Epoch 46/100\n",
      "754/754 - 4s - 5ms/step - loss: 0.9539 - val_loss: 1.0537\n",
      "Epoch 47/100\n",
      "754/754 - 4s - 5ms/step - loss: 0.9537 - val_loss: 1.0529\n",
      "Epoch 48/100\n",
      "754/754 - 4s - 5ms/step - loss: 0.9536 - val_loss: 1.0522\n",
      "Epoch 49/100\n",
      "754/754 - 4s - 5ms/step - loss: 0.9534 - val_loss: 1.0515\n",
      "Epoch 50/100\n",
      "754/754 - 4s - 5ms/step - loss: 0.9532 - val_loss: 1.0508\n",
      "Epoch 51/100\n",
      "754/754 - 4s - 5ms/step - loss: 0.9531 - val_loss: 1.0497\n",
      "Epoch 52/100\n",
      "754/754 - 4s - 5ms/step - loss: 0.9529 - val_loss: 1.0491\n",
      "Epoch 53/100\n",
      "754/754 - 4s - 5ms/step - loss: 0.9528 - val_loss: 1.0484\n",
      "Epoch 54/100\n",
      "754/754 - 4s - 5ms/step - loss: 0.9526 - val_loss: 1.0477\n",
      "Epoch 55/100\n",
      "754/754 - 4s - 5ms/step - loss: 0.9525 - val_loss: 1.0470\n",
      "Epoch 56/100\n",
      "754/754 - 4s - 5ms/step - loss: 0.9524 - val_loss: 1.0463\n",
      "Epoch 57/100\n",
      "754/754 - 4s - 5ms/step - loss: 0.9522 - val_loss: 1.0457\n",
      "Epoch 58/100\n",
      "754/754 - 4s - 6ms/step - loss: 0.9521 - val_loss: 1.0450\n",
      "Epoch 59/100\n",
      "754/754 - 4s - 6ms/step - loss: 0.9520 - val_loss: 1.0444\n",
      "Epoch 60/100\n",
      "754/754 - 4s - 5ms/step - loss: 0.9519 - val_loss: 1.0438\n",
      "Epoch 61/100\n",
      "754/754 - 4s - 5ms/step - loss: 0.9518 - val_loss: 1.0432\n",
      "Epoch 62/100\n",
      "754/754 - 4s - 5ms/step - loss: 0.9517 - val_loss: 1.0426\n",
      "Epoch 63/100\n",
      "754/754 - 4s - 6ms/step - loss: 0.9516 - val_loss: 1.0421\n",
      "Epoch 64/100\n",
      "754/754 - 4s - 5ms/step - loss: 0.9515 - val_loss: 1.0415\n",
      "Epoch 65/100\n",
      "754/754 - 4s - 5ms/step - loss: 0.9514 - val_loss: 1.0409\n",
      "Epoch 66/100\n",
      "754/754 - 4s - 5ms/step - loss: 0.9513 - val_loss: 1.0404\n",
      "Epoch 67/100\n",
      "754/754 - 4s - 5ms/step - loss: 0.9512 - val_loss: 1.0399\n",
      "Epoch 68/100\n",
      "754/754 - 4s - 5ms/step - loss: 0.9512 - val_loss: 1.0394\n",
      "Epoch 69/100\n",
      "754/754 - 4s - 6ms/step - loss: 0.9511 - val_loss: 1.0388\n",
      "Epoch 70/100\n",
      "754/754 - 4s - 5ms/step - loss: 0.9510 - val_loss: 1.0382\n",
      "Epoch 71/100\n",
      "754/754 - 4s - 5ms/step - loss: 0.9509 - val_loss: 1.0377\n",
      "Epoch 72/100\n",
      "754/754 - 4s - 5ms/step - loss: 0.9509 - val_loss: 1.0370\n",
      "Epoch 73/100\n",
      "754/754 - 4s - 5ms/step - loss: 0.9508 - val_loss: 1.0364\n",
      "Epoch 74/100\n",
      "754/754 - 4s - 5ms/step - loss: 0.9507 - val_loss: 1.0359\n",
      "Epoch 75/100\n",
      "754/754 - 4s - 5ms/step - loss: 0.9506 - val_loss: 1.0353\n",
      "Epoch 76/100\n",
      "754/754 - 4s - 5ms/step - loss: 0.9506 - val_loss: 1.0348\n",
      "Epoch 77/100\n",
      "754/754 - 4s - 5ms/step - loss: 0.9505 - val_loss: 1.0343\n",
      "Epoch 78/100\n",
      "754/754 - 4s - 5ms/step - loss: 0.9505 - val_loss: 1.0338\n",
      "Epoch 79/100\n",
      "754/754 - 4s - 6ms/step - loss: 0.9504 - val_loss: 1.0333\n",
      "Epoch 80/100\n",
      "754/754 - 4s - 5ms/step - loss: 0.9504 - val_loss: 1.0328\n",
      "Epoch 81/100\n",
      "754/754 - 4s - 5ms/step - loss: 0.9503 - val_loss: 1.0323\n",
      "Epoch 82/100\n",
      "754/754 - 4s - 5ms/step - loss: 0.9502 - val_loss: 1.0318\n",
      "Epoch 83/100\n",
      "754/754 - 4s - 5ms/step - loss: 0.9502 - val_loss: 1.0313\n",
      "Epoch 84/100\n",
      "754/754 - 4s - 5ms/step - loss: 0.9501 - val_loss: 1.0308\n",
      "Epoch 85/100\n",
      "754/754 - 4s - 5ms/step - loss: 0.9501 - val_loss: 1.0303\n",
      "Epoch 86/100\n",
      "754/754 - 4s - 5ms/step - loss: 0.9500 - val_loss: 1.0299\n",
      "Epoch 87/100\n",
      "754/754 - 4s - 5ms/step - loss: 0.9500 - val_loss: 1.0294\n",
      "Epoch 88/100\n",
      "754/754 - 4s - 5ms/step - loss: 0.9500 - val_loss: 1.0289\n",
      "Epoch 89/100\n",
      "754/754 - 4s - 5ms/step - loss: 0.9499 - val_loss: 1.0284\n",
      "Epoch 90/100\n",
      "754/754 - 4s - 5ms/step - loss: 0.9499 - val_loss: 1.0280\n",
      "Epoch 91/100\n",
      "754/754 - 4s - 5ms/step - loss: 0.9498 - val_loss: 1.0276\n",
      "Epoch 92/100\n",
      "754/754 - 4s - 5ms/step - loss: 0.9498 - val_loss: 1.0271\n",
      "Epoch 93/100\n",
      "754/754 - 4s - 5ms/step - loss: 0.9497 - val_loss: 1.0267\n",
      "Epoch 94/100\n",
      "754/754 - 4s - 5ms/step - loss: 0.9497 - val_loss: 1.0262\n",
      "Epoch 95/100\n",
      "754/754 - 4s - 5ms/step - loss: 0.9497 - val_loss: 1.0257\n",
      "Epoch 96/100\n",
      "754/754 - 4s - 5ms/step - loss: 0.9496 - val_loss: 1.0252\n",
      "Epoch 97/100\n",
      "754/754 - 4s - 5ms/step - loss: 0.9496 - val_loss: 1.0248\n",
      "Epoch 98/100\n",
      "754/754 - 4s - 5ms/step - loss: 0.9496 - val_loss: 1.0244\n",
      "Epoch 99/100\n",
      "754/754 - 4s - 5ms/step - loss: 0.9495 - val_loss: 1.0239\n",
      "Epoch 100/100\n",
      "754/754 - 4s - 5ms/step - loss: 0.9495 - val_loss: 1.0234\n"
     ]
    },
    {
     "data": {
      "image/png": "[encoded data removed]",
      "text/plain": [
       "<Figure size 500x400 with 1 Axes>"
      ]
     },
     "metadata": {},
     "output_type": "display_data"
    }
   ],
   "source": [
    "####################\n",
    "#tf.keras.backend.clear_session() # Clear the session to free up resources\n",
    "\n",
    "model , history = new_LR(0.001, 100)\n",
    "\n",
    "def plot_learning_curves1(hist):\n",
    "    epochs = np.arange(0, len(hist.history['loss'])) + 1\n",
    "    sns.set(style='ticks')\n",
    "    fig, ax = plt.subplots(1, 1, figsize = (5, 4))\n",
    "    ax.plot(epochs, hist.history['loss'], label = 'Training loss', marker = 'o', ls = '--')\n",
    "    ax.plot(epochs, hist.history['val_loss'], label = 'Validation loss', marker = 'o', ls = '--')\n",
    "\n",
    "    # Mark best epoch\n",
    "    best_epoch_idx = np.argmin(hist.history['val_loss'])\n",
    "    best_val_loss = np.min(hist.history['val_loss'])\n",
    "    ax.plot(best_epoch_idx + 1, best_val_loss, 'ro', markersize=10, \n",
    "            markerfacecolor='red', markeredgecolor='white', markeredgewidth=2,\n",
    "            label=f'Best Val Loss (Epoch {best_epoch_idx + 1})')\n",
    "    \n",
    "\n",
    "    ax.set_xlabel('Epoch')\n",
    "    ax.set_ylabel('Loss')\n",
    "    ax.set_title('Learning curves')\n",
    "    ax.legend()\n",
    "    sns.despine(trim=True, offset=5)\n",
    "\n",
    "plot_learning_curves1(history)\n",
    "########################################"
   ]
  },
  {
   "attachments": {},
   "cell_type": "markdown",
   "metadata": {},
   "source": [
    "**TODO Your answer here**\n",
    "\n",
    "Answer the following questions in written form:\n",
    "\n",
    "1. Does the training loss decrease after each epoch? Why does it? // Why does it not?\n",
    "1. Does the validation loss decrease after each epoch? Why does it? // Why does it not? (For your answer to be sufficient, you should describe fluctuations and discuss the overall minimum of the curve.)\n",
    "1. At which epoch was your model best? I.e. if you had saved your model after each training epoch, which one would you use to make predictions to unseen samples (e.g. from the test set)? Why? (For your answer to be sufficient: Also discuss what this means in terms of overfitting)\n",
    "\n",
    "**TODO Your answer here**\n"
   ]
  },
  {
   "attachments": {},
   "cell_type": "markdown",
   "metadata": {},
   "source": [
    "<span style='color:red'>**Your answer:\n",
    "\n",
    "1. The training loss generally decreases after each epoch, but not The training loss generally decreases after each epoch, but not necessarily monotonically, It decreases because the optimizer (SGD) adjusts the model weights based on gradients to minimize the loss function on the training data\n",
    " monotonically\n",
    "2. The validation loss does not decrease monotonically after each epoch, at the begening, it decreases faster becuase the model learns generalizable patterns from the traninig data, and they typically fluctuate more than traning loss. They eventually reach a minimum before they increase again. this happens beacuse the model start overfitting. \n",
    "3. The model was best at the epoch where validation loss reached its minimum (see plot).  After this point, in this case after 100 epochs, the model likely begins overfitting - if we keep improving on training data while getting worse on validation data, indicating it's memorizing training specific patterns rather than learning to generelize.\n",
    "\n",
    "**</span>\n",
    "\n"
   ]
  },
  {
   "attachments": {},
   "cell_type": "markdown",
   "metadata": {},
   "source": [
    "# Subtask 2.6\n",
    "## Save and restore model checkpoints\n",
    "\n",
    "Training that model for 100 epochs took quite a bit of time, right? Wouldn't it be a pity if it would get deleted out of memory, e.g. because your Colab session terminates (this can even happen automatically)? We would have to train it again to make predictions! To prevent this, we would like to save a check-point of the already optimized model's weights to disk. Then, we could just load our model weights at any time and use our model again without retraining. As you will see in a bit, this will be very handy for early stopping, too!\n",
    "\n",
    "#### TODO\n",
    "- Save a checkpoint of the `model` trained above (i.e. the model's parameters) to disk.\n",
    "- Initialize a new model, `model2` with the same architecture as used for the `model` you stored. Do *not* train `model2`.\n",
    "- Evaluate `model2` on the validation dataset.\n",
    "- Now, overwrite the initialized, untrained weights of `model2` with the weights you saved into the checkpoint of `model`.\n",
    "- Evaluate `model2`'s validation loss again. It should be of the exact same value as `model`'s validation loss.\n"
   ]
  },
  {
   "attachments": {},
   "cell_type": "markdown",
   "metadata": {},
   "source": [
    "*Hints:*\n",
    " - Read https://www.tensorflow.org/tutorials/keras/save_and_load\n",
    " - Use `model.save_weights`"
   ]
  },
  {
   "cell_type": "code",
   "execution_count": 50,
   "metadata": {},
   "outputs": [
    {
     "data": {
      "text/plain": [
       "5.485382080078125"
      ]
     },
     "execution_count": 50,
     "metadata": {},
     "output_type": "execute_result"
    }
   ],
   "source": [
    "####################\n",
    "checkpoint_path = \"model_checkpoint.weights.h5\"\n",
    "model.save_weights(checkpoint_path)\n",
    "current_val_loss = model.evaluate(X_val_scaled, y_val_scaled, verbose=0)\n",
    "current_val_loss\n",
    "\n",
    "####################\n"
   ]
  },
  {
   "attachments": {},
   "cell_type": "markdown",
   "metadata": {},
   "source": [
    "# Subtask 2.7\n",
    "## Early stopping\n",
    "So the model you ended up with after 100 epochs was not the best one. That has two implications for us: (1) We would not have had to train for that many epochs and could have saved some computing time. (2) We do not have the best model to apply our model to make actual predictions for unseen samples. If we would constantly assess our model's validation performance during training, we could stop optimization as soon as our model's performance does not increase anymore. This is called *early stopping*.\n",
    "\n",
    "### TODO\n",
    "- Implement Early Stopping using `tf.keras.callbacks.EarlyStopping`. Use patience = 5, which means that if the validation loss is not improved after 5 epochs, the training process should be stopped.\n",
    "- Save the model checkpoint after each epoch if the validation loss is improved. Use `tf.keras.callbacks.ModelCheckpoint`.\n",
    "- Train the model for 100 epochs with a learning rate of 0.01.\n",
    "- Load the model checkpoint.\n",
    "- Evaluate the model on the validation data."
   ]
  },
  {
   "cell_type": "code",
   "execution_count": null,
   "metadata": {},
   "outputs": [],
   "source": [
    "####################\n",
    "## YOUR CODE HERE ##\n",
    "####################\n"
   ]
  },
  {
   "cell_type": "code",
   "execution_count": null,
   "metadata": {},
   "outputs": [],
   "source": [
    "## TODO load the model checkpoint and evaluate on validation data\n",
    "####################\n",
    "## YOUR CODE HERE ##\n",
    "####################"
   ]
  },
  {
   "attachments": {},
   "cell_type": "markdown",
   "metadata": {},
   "source": [
    "#### TODO\n",
    "- Compare the training you just did with the one of the same model trained for 100 epochs. Did you reach best model performance? If so: why? If not: why not?\n",
    "- What is the purpose of `patience`, and why do we need that?\n",
    "- Do the same training as in the previous cell, starting training from scratch, but try different values for `patience` now. Did you end up with a model resulting in the best validation accuracy you have seen so far, but without training the full 100 epochs?"
   ]
  },
  {
   "cell_type": "code",
   "execution_count": null,
   "metadata": {},
   "outputs": [],
   "source": [
    "####################\n",
    "## YOUR CODE HERE ##\n",
    "####################"
   ]
  },
  {
   "attachments": {},
   "cell_type": "markdown",
   "metadata": {},
   "source": [
    "## Explore batch size *(optional)*\n",
    "\n",
    "*This task is optional, you do not need to solve it*\n",
    "\n",
    "Let us explore even more model and training parameters. In this section, we will see the impact of batch size on training. Let us use a learning rate of $10^{-3}$ from now on.\n",
    "\n",
    "\n",
    "#### TODO *(optional)*\n",
    "- Run training of the same model used above with \n",
    "    - batch size 1 for **one epoch**\n",
    "    - batch size 1024 for 100 epochs, using early stopping with patience 10\n",
    "- Compare your training results of all three batch sizes you have trained, i.e. batch size 1, 512 (from above) and 1024 \n",
    "- Was it smart to set batch size to 1?\n",
    "- How long (in terms of computing time) do your models need to train for the different batch sizes? (You could even measure this with python, using the `time` package)\n",
    "- What is the impact on model performance?"
   ]
  },
  {
   "cell_type": "code",
   "execution_count": null,
   "metadata": {},
   "outputs": [],
   "source": [
    "# Batch size 1\n",
    "\n",
    "###############################\n",
    "## YOUR CODE HERE - OPTIONAL ##\n",
    "###############################"
   ]
  },
  {
   "cell_type": "code",
   "execution_count": null,
   "metadata": {},
   "outputs": [],
   "source": [
    "# Batch size 1024\n",
    "\n",
    "###############################\n",
    "## YOUR CODE HERE - OPTIONAL ##\n",
    "###############################"
   ]
  },
  {
   "attachments": {},
   "cell_type": "markdown",
   "metadata": {},
   "source": [
    "# Subtask 2.8\n",
    "## What about the architecture?\n",
    "\n",
    "How does architecture affect predictive performance? \n",
    "\n",
    "#### TODO:\n",
    "In the following, try to improve model performance by varying \n",
    "- number of hidden layers\n",
    "- number of neurons per each hidden layer\n",
    "- activation function \n",
    "\n",
    "These parameters are called hyper-parameters, since they are excluded from model optimization. Instead, we have to set them by hand and explore them to find a model with good predictive accuracy. \n",
    "\n",
    "Vary only one hyper-parameter at a time. If you would vary multiple parameters at the same time, it would be harder for you to see the impact that each parameter has."
   ]
  },
  {
   "cell_type": "code",
   "execution_count": null,
   "metadata": {},
   "outputs": [],
   "source": [
    "# number of hidden layers\n",
    "\n",
    "####################\n",
    "## YOUR CODE HERE ##\n",
    "####################\n",
    "\n",
    "# 4 hidden layers"
   ]
  },
  {
   "cell_type": "code",
   "execution_count": null,
   "metadata": {},
   "outputs": [],
   "source": [
    "# number of neurons per each hidden layer\n",
    "\n",
    "####################\n",
    "## YOUR CODE HERE ##\n",
    "####################\n",
    "\n",
    "# 100 neurons"
   ]
  },
  {
   "cell_type": "code",
   "execution_count": null,
   "metadata": {},
   "outputs": [],
   "source": [
    "# activation function\n",
    "\n",
    "####################\n",
    "## YOUR CODE HERE ##\n",
    "####################\n",
    "\n",
    "# Use tanh instead of ReLU"
   ]
  },
  {
   "attachments": {},
   "cell_type": "markdown",
   "metadata": {},
   "source": [
    "**TODO Your answer here**\n",
    "\n",
    "1. How good do you get?\n",
    "2. Which hyper-parameter makes the largest difference?\n",
    "3. Does it always help to make your model bigger (i.e. wider / deeper)? Why not?\n",
    "\n",
    "**TODO Your answer here**\n"
   ]
  },
  {
   "attachments": {},
   "cell_type": "markdown",
   "metadata": {},
   "source": [
    "**Your answers:**\n",
    "1. ..."
   ]
  },
  {
   "attachments": {},
   "cell_type": "markdown",
   "metadata": {},
   "source": [
    "# Subtask 2.9\n",
    "## Challenge\n",
    "#### TODO\n",
    "- If you choose your best values for number hidden units, number of layers and activation function that you determined by varying them independently above: Does performance improve? Why?\n",
    "- Vary all of the parameters at the same time to maximize the predictive performance of your model. How good do you get?"
   ]
  },
  {
   "cell_type": "code",
   "execution_count": null,
   "metadata": {},
   "outputs": [],
   "source": [
    "# Your best model:\n",
    "\n",
    "####################\n",
    "## YOUR CODE HERE ##\n",
    "####################"
   ]
  },
  {
   "attachments": {},
   "cell_type": "markdown",
   "metadata": {},
   "source": [
    "# Subtask 2.10\n",
    "## Evaluate your best model on test set, once!\n",
    "When doing a study, at the very end right before writing up your paper, you evaluate the best model you chose on the test set. This is the performance value you will report to the public.\n",
    "\n",
    "#### TODO\n",
    "- Evaluate the model on the testing dataset.\n",
    "- Plot the reference mass flow rate vs. the predicted values for the first 50 samples of the testing dataset."
   ]
  },
  {
   "cell_type": "code",
   "execution_count": null,
   "metadata": {},
   "outputs": [],
   "source": [
    "# TODO evaluate the model\n",
    "####################\n",
    "## YOUR CODE HERE ##\n",
    "####################\n"
   ]
  },
  {
   "cell_type": "code",
   "execution_count": null,
   "metadata": {},
   "outputs": [],
   "source": [
    "# TODO plot results\n",
    "####################\n",
    "## YOUR CODE HERE ##\n",
    "####################\n",
    "\n",
    "y_pred = ...\n"
   ]
  },
  {
   "attachments": {},
   "cell_type": "markdown",
   "metadata": {},
   "source": [
    "**TODO Your answer here**\n",
    "\n",
    "1. Is the test loss of your model as good as the validation loss?\n",
    "2. If those values are different: How can you explain the difference?\n",
    "3. Why should you never use test set performance when trying out different hyper-parameters and architectures?\n",
    "\n",
    "**TODO Your answer here**\n",
    "\n"
   ]
  },
  {
   "attachments": {},
   "cell_type": "markdown",
   "metadata": {},
   "source": [
    "<span style='color:red'>**Your answer:**</span>\n",
    "\n",
    "1. ..."
   ]
  }
 ],
 "metadata": {
  "accelerator": "GPU",
  "colab": {
   "collapsed_sections": [],
   "name": "Exercises1_2021.ipynb",
   "provenance": []
  },
  "kernelspec": {
   "display_name": "Python 3",
   "language": "python",
   "name": "python3"
  },
  "language_info": {
   "codemirror_mode": {
    "name": "ipython",
    "version": 3
   },
   "file_extension": ".py",
   "mimetype": "text/x-python",
   "name": "python",
   "nbconvert_exporter": "python",
   "pygments_lexer": "ipython3",
   "version": "3.12.5"
  },
  "nteract": {
   "version": "0.15.0"
  }
 },
 "nbformat": 4,
 "nbformat_minor": 4
}
